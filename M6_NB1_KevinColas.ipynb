{
 "cells": [
  {
   "cell_type": "markdown",
   "metadata": {
    "nbpresent": {
     "id": "2ac82bad-ee45-4afa-a652-0b631ec1ee5d"
    }
   },
   "source": [
    "<div align=\"right\">Python 2.7 Jupyter Notebook</div>\n",
    "\n",
    "# Big data projects\n",
    "<br>\n",
    "<div class=\"alert alert-warning\">\n",
    "<b>This notebook should be opened and completed by students completing both the technical and non-technical tracks of this course.</b>\n",
    "</div>\n",
    "\n",
    "### Your completion of the notebook exercises will be graded based on your ability to:\n",
    "\n",
    "> **Understand**: Does your pseudo-code and/or comments show evidence that you recall and understand technical concepts?\n",
    "\n",
    "# Introduction\n",
    "\n",
    "While you have been introduced to the many technical concepts, tools, and technologies, very little attention has been paid to people and processes. These are critical elements to consider when undertaking projects using data. Technological advances mean that tools and data collection methods are becoming more accessible, and that projects that previously required significant investment in terms of human resources and technology can be undertaken by a wider range of audiences. Your use cases and reasons for undertaking projects will vary greatly, but you will still need to interact with a variety of stakeholders.\n",
    "\n",
    "In this notebook we are introducing you to a big data project methodology that will allow you to set up big data projects in your own social or commercial context. We use the existing project to demonstrate some of the key concepts which you can use as input in setting up your own projects in future.\n",
    "\n",
    "In the video content, Professor Pentland referred to specific concepts which can also be applied to your project. Some of these include:\n",
    "- Creating social context which involves surrounding people with others who are thinking about trying certain things to get them to adopt those behaviors.\n",
    "- Playing with ideas does not change behavior.\n",
    "- You may need to implement multiple strategies to deal with the various parties in the social context (early adopters and close networks).\n",
    "\n",
    "> **Note**:\n",
    "\n",
    "> While the content introduced in the course is intended to provide you with insights typically applied in social analytics projects, you can also use these to ensure the successfull completion of your project. As example, projects where multiple parties work on similar projects with a shared vision typically have a higher likelihood of success than those performed by individuals in isolation. From a systems point of view this can be attributed to items such as shared tasks (data collected once and used multiple times), but we typically underestimate the impact of social context when executing projects. Please keep all the content introduced in the course in mind while working through the content presented in this notebook and ensure that you apply these concepts when setting up or interacting with other parties in your future endeavours.\n",
    "\n",
    "Refer to the abstract of the [paper](http://realitycommons.media.mit.edu/download.php?file=FriendsAndFamily.pdf) titled “Social fMRI: Investigating and shaping social mechanisms in the real world”. This abstract is repeated below and you are encouraged to work through the detail of the paper over the next two weeks.\n",
    "\n",
    "> **ABSTRACT:** We introduce the Friends and Family study, a longitudinal living laboratory in a residential community. In this study, we employ a ubiquitous computing approach, Social Functional Mechanism-design and Relationship Imaging, or Social fMRI, that combines extremely rich data collection with the ability to conduct targeted experimental interventions with study populations. We present our mobile-phone-based social and behavioral sensing system, deployed in the wild for over 15 months. Finally, we present three investigations performed during the study, looking into the connection between individuals’ social behavior and their financial status, network effects in decision making, and a novel intervention aimed at increasing physical activity in the subject population. Results demonstrate the value of social factors for choice, motivation, and adherence, and enable quantifying the contribution of different incentive mechanisms. (Aharony et al. 2011)\n",
    "\n",
    "<div class=\"alert alert-warning\">\n",
    "<b>Note</b>:<br>The first week (Module 6) will touch on various aspects of big data projects in general and provide some technical considerations, while the second week (Module 7) will focus on the specific study and its results.\n",
    "</div>"
   ]
  },
  {
   "cell_type": "markdown",
   "metadata": {},
   "source": [
    "# 1. Project overview\n",
    "\n",
    "Taking a \"People, Process, Technology, Data\" high level view of projects can be a useful framework when planning or communicating projects at a concept level. Most project management methodologies will contain similar elements to those depicted in the image below.\n",
    "\n",
    "![Data: People, Process, Technology](peopleprocesstechnology.png \"Data: People, Process, Technology\")\n",
    "(Source: [Analytics Infrastructure: 15 Considerations](http://blogs.sas.com/content/datamanagement/2012/05/09/analytics-infrastructure-15-considerations/))\n",
    "\n",
    "## 1.1 People\n",
    "Reuse existing skills and budget time and training for your human resources. Many of the items require additional learning curves and training. The nature of the types of analysis performed means that it is an iterative process by definition and many of the steps are extremely difficult to budget for using traditional project management methodologies. Make sure that you have the relevant skills available and ensure that you deal appropriately with the introduction of new tools and methodologies. Ensure that the analysts work in an environment where other users in the organization can support them or work with tools where there is a rich community of support (social context).\n",
    "\n",
    "** Typical roles include**.\n",
    "- Stakeholders and decision makers.\n",
    "    - Within an organization: Chief information officers (CIO), chief data officers (CDO), governance and compliance officers, and business unit representatives.\n",
    "    - Within academia: Lecturers and study leads or department representatives of your institution.\n",
    "- Analytic professionals.\n",
    "    - Data scientists to create new functions and perform ad-hoc analyses (typically using scripting languages such as R and Python, but may also use other existing tools where appropriate).\n",
    "    - Data scientists and analysts to repeat and refine analyses. This is similar to the above step, but also typically includes the use of more accessible tools such as SQL (Structured Query Language) and BI (business intelligence) tools.\n",
    "    - Business analysts and knowledge workers are supported by data analysts and data scientists, and typically use apps and end-to-end tools.\n",
    "- Infrastructure specialists.\n",
    "    - Architects, database administrators, and system owners.\n",
    "\n",
    "## 1.2 Process\n",
    "The “process” component of projects refers to the following aspects:\n",
    "- Define the processes and implement standards to ensure that your activities are repeatable. Adhere to the standards (academic or commercial) required by your organization, and meet the requests of your analytic needs.\n",
    "- Academics have a well defined and rigorous process in place to deal with many of the issues. In the business and commercial world, many organizations are moving from waterfall-based approaches to more agile and \"fail-fast\" or \"[data-driven approaches](http://andrewchen.co/know-the-difference-between-data-informed-and-versus-data-driven/)\". \n",
    "\n",
    "## 1.3 Technology\n",
    "The “technology” component of projects is characterized by the need to:\n",
    "- Choose the analytic platform components as required. Reuse and be critical of limitations. Consider open ecosystems and environments that can be used to speed up progress, but perform due diligence prior to implementing in production, as the checks and balances exist for a reason.\n",
    "- Be careful of moving to this step too quickly. Resolve the function and architecture before making technology choices.\n",
    "\n",
    "## 1.4 Data\n",
    "The “data” component of projects involves carrying out  the following steps:\n",
    "- Identify, acquire, store, and provide access to the data required to support your analytic needs.\n",
    "- Apply the appropriate governance and privacy protection standards.\n",
    "- Use the data to uncover insights, trends, and patterns from data."
   ]
  },
  {
   "cell_type": "markdown",
   "metadata": {},
   "source": [
    "# 2. Change management\n",
    "Approaching projects purely from a technical or analytical point of view typically delivers underwhelming results. You need to be aware that once you reach an insight, you will also have to act on that insight, and that action needs to be performed in the social context of your organization or environment. This may be a simple change in an existing business process, however, in many cases there may be significant changes in existing processes, new processes, or products and services that require some form of change management in order to implement the proposed changes. You can review topics such as [organizational transformation](http://www.iienet2.org/Details.aspx?id=24456) and “data-driven approaches” for further information and guidance.\n",
    "\n",
    "Many of the approaches advocate iterative or 'fail-fast' approaches to test the concept before embarking on full-scale projects. The approach you follow will be highly dependent on the type and size of organization, and potentially on the tools and resources at your disposal. The majority of approaches contain similar elements, which will be explored in this notebook.\n",
    "\n",
    "- Phase 0: Pilot: Preparation and feasibility checks.\n",
    "- Phase 1: Project execution and maintenance.\n",
    "- Phase 2: Project termination."
   ]
  },
  {
   "cell_type": "markdown",
   "metadata": {
    "nbpresent": {
     "id": "e1812ba0-1887-476b-aeb1-75b86467853e"
    }
   },
   "source": [
    "# 3. Project initiation\n",
    "> **Vision**:\n",
    "\n",
    "> Imagine the ability to place an imaging chamber around an entire community. Imagine the ability to record and display nearly every facet and dimension of behavior, communication, and social interaction among the members of the said community. Moreover, envision being able to conduct interventions in the community, while measuring their effect — by both automatic sensor tools as well as qualitative assessment of the individual subjects. Now, think about doing this for an entire year, while the members of the community go about their everyday lives.\n",
    "\n",
    "You may find inspiration in science, technology, attempting to solve a business need, or your inspiration may be driven by personal interest. Whatever your reason for choosing to initiate a project, you will still need to communicate the ideas to multiple stakeholders and plan your project to ensure success.\n",
    "\n",
    "Starting with a clearly-stated and referenceable vision is a good way to ensure that you can communicate the project’s intention to multiple stakeholders, and get them excited and focused on the topic being studied. When setting the vision, keep the potential stakeholders and decision makers in mind. This is usually championed by an individual, but may form part of formal structures such as thesis proposals or workshops with multiple potential stakeholders. In terms of your documentation: abstracts, introductions, and overviews are typically completed last as these items are frequently revisited and updated throughout the course of the project.\n",
    "\n",
    "The processes in academia, and specifically postgraduate studies, are set up to ensure that prospective students research their topic of interest, and clearly define their intended area of research. The research methodologies are carefully validated to ensure that all relevant aspects are addressed. Business applications tend to be less rigorous regarding processes while having an increased focus on achieving monetary results. You are urged to work through the detail of the referenced paper by Aharony et al. (2011), and think carefully about where each of the described sections may be applicable to your potential use cases."
   ]
  },
  {
   "cell_type": "markdown",
   "metadata": {},
   "source": [
    "# 4. Research and context\n",
    "> **Review section 2 of the referenced paper**: Related work and context.\n",
    "\n",
    "Research will enable you to benefit from incorporating the latest research in your analytic efforts. At this stage, many of your questions may have already been addressed to some extent, allowing you to build on the work completed by others in order to accelerate your efforts, while other questions may not be answered directly."
   ]
  },
  {
   "cell_type": "markdown",
   "metadata": {},
   "source": [
    "# 5. Project framework\n",
    "You can use project methodologies that are applicable to your industry, or that you are familiar with, but it is highly advisable to keep a couple of topics in mind.\n",
    "\n",
    "In your research you will likely encounter subject material relevant to your project which you can use as input. This may include subject matter or business value frameworks, project plans, typical questions, and plans to answer these questions.\n",
    "\n",
    "#### Value perspective\n",
    "Focusing on the value perspective from an early point helps to keep you focused. This involves considering the following questions:\n",
    "- How do you define success?\n",
    "- What is the intended outcome?\n",
    "- Monetization of results?\n",
    "- How will you measure social impact?\n",
    "- Will you be using incentives such as gamification?\n",
    "\n",
    "#### Accelerators\n",
    "Accelerators may include using programming libraries - such as pandas for data analysis, or Bandicoot for the interrogation of mobile phone metadata - but you will also be able to leverage the content from studies and service providers in order to accelerate your efforts.\n",
    "\n",
    "#### Skills review\n",
    "New technological options, and applying the best tool or process (\"fit for purpose\"), may achieve results in dramatically-reduced timeframes or at a fraction of the cost typically associated with large-scale studies. However, you should start building a view of the resources (available and required) at an early stage.\n",
    "\n",
    "#### Communicating your proposal\n",
    "Lastly, you should decide on a strategy to visualize and communicate your project.\n",
    "\n",
    "> **Review**: Section 3 of the referenced paper has a clear example of framing your intentions in a manner that can be easily communicated to stakeholders."
   ]
  },
  {
   "cell_type": "markdown",
   "metadata": {},
   "source": [
    "# 6. Methodology\n",
    "\n",
    "> **Review**: Section 4 of the referenced paper."
   ]
  },
  {
   "cell_type": "markdown",
   "metadata": {},
   "source": [
    "<div class=\"alert alert-info\">\n",
    "<b>Exercise 1 Start.</b>\n",
    "</div>\n",
    "\n",
    "### Instructions\n",
    "\n",
    "> Can you list two advantages of the multimodal approaches similar to that discussed in the paper?"
   ]
  },
  {
   "cell_type": "markdown",
   "metadata": {},
   "source": [
    "Commonly, computational social science studies of large scale have very large sample size, collecting information on a very large number of subjects. But in general, the amount of information in the dataset or \"throughput\" is limited by several factors:\n",
    "\n",
    ". The use of only very few data-crumbs or \"domains\" like emails, credit card transactions or browsing histories and patterns,\n",
    "\n",
    ". Time-interval information collect sessions creating offline confusion of causes and effect relationships vs. real-time online continuous data collect,\n",
    "\n",
    ". A lack of contextual information on the individuals subjects themselves. \n",
    "In consequence, the results of those domain-limited studies are hard to generalize to larger populations.\n",
    "\n",
    "Trhoughput if defined by data dimensionality (number of signals collected or data-crumbs), resolution (granularity and structuration of the data), sampling rate (frequency of data collection) and uniqueness (specificities of the data and its methods of collection). \n",
    "\n",
    "Increasing the dimensionality and throughput of datasets, multimodal approaches including bottom up data collection from the users or subjects of the study using simultaneously multiple data-crumbs (phone and internet browsing logs and sensors readings like accelerometer, gyro-meter, bluetooth, wifi, GPS, email, credit card transactions, app installed, app activity, Facebook, Twitter or LinkedIn logs, mood, stress, activity and sleep polling or psychological personality test, phone and web surveys, video and media consumption) combining automatic digital data collection and interventions by interactions with the subjects through questionnaires, have several advantages with two major: higher throughput, online continuous data without offline effect, highly dimensional and contextual information on users or subjects and information on interrelations between data-crumbs or signals."
   ]
  },
  {
   "cell_type": "markdown",
   "metadata": {},
   "source": [
    "<br>\n",
    "<div class=\"alert alert-info\">\n",
    "<b>Exercise 1 End.</b>\n",
    "</div>\n",
    "\n",
    "> **Exercise complete**:\n",
    "    \n",
    "> This is a good time to \"Save and Checkpoint\"."
   ]
  },
  {
   "cell_type": "markdown",
   "metadata": {},
   "source": [
    "The paper describes the methodology employed in detail. When embarking on your journey there will be additional items to consider which typically do not make it into the paper or the final product. Some of the items outside of the scope of the course are included here for your consideration:\n",
    "\n",
    "## 6.1 Data collection\n",
    "In an earlier video within the course, Arek Stopczynski referred to data collection being expensive. Carefully review the data sources already available, as well as potential new sources of data. You will need to balance the need for trusted and high-accuracy or low-grain data with the costs and overheads associated with obtaining the data. In many cases, your pilot project will focus on easier-to-obtain data and you may need to use proxies or subsets of data to demonstrate the usefulness of the concept being studied. Many of the questions that you will need to answer may potentially be answered by a small subset of data (the [Pareto principle](http://www.investopedia.com/terms/p/paretoprinciple.asp)). There would typically be a number of use cases for the same set of data. Think of social network data. While many organizations, or units within organizations, are excited about the prospect of using this rich source of data, few are able to obtain value from it.\n",
    "\n",
    "## 6.2 Data preparation\n",
    "Data preparation can be a tedious process and typically requires more time than is budgeted for. Accelerators aid in transformation, and the governance of data can help you to reduce ongoing required efforts. When thinking about the creation of data products or implementing production systems, you typically want to automate these steps, in order to free up capacity of your data scientists, ensuring that they can spend their time on useful tasks rather than repetitive ones.\n",
    "\n",
    "## 6.3 Analytics\n",
    "In addressing analytics concerns, you would build up a \"toolbox\" as you practise and implement your analytic capabilities. These may include:\n",
    "* Statistical analyses and predictive modeling, including:\n",
    "    * Generalized linear models (GLMs);\n",
    "    * K-nearest neighbor (KNN) classification algorithms; and\n",
    "    * Naive bayes models to train models for churn prediction.\n",
    "* Pattern and distribution matching.\n",
    "* Time series analysis.\n",
    "* Segmentation.\n",
    "* Graph and cluster analysis.\n",
    "* Data transformation for advanced analysis or input to existing tools.\n",
    "* Text analytics to derive patterns and features.\n",
    "* Sentiment analysis.\n",
    "* Geospatial analysis.\n",
    "* Machine and deep learning techniques.\n",
    "* Visualization of random forests and single decision trees."
   ]
  },
  {
   "cell_type": "markdown",
   "metadata": {},
   "source": [
    "<br>\n",
    "<div class=\"alert alert-info\">\n",
    "<b>Exercise 2 Start.</b>\n",
    "</div>\n",
    "\n",
    "### Instructions\n",
    "\n",
    "> Section 4.2 of the referenced paper contains a number of data sources such as mobile phone call and sensor records, surveys, purchasing behavior, and Facebook data. Describe what these type of records would typically tell you about the behavior of the individuals.\n",
    "\n",
    "> **Hint**: Refer to content from earlier modules where the difference between how you want to be perceived and what you commit to is described."
   ]
  },
  {
   "cell_type": "markdown",
   "metadata": {},
   "source": [
    "Telecom networks data like phone and text or sms logs provide very strong signal of the social structure, stronger than Facebook, Twitter or LinkedIn contact logs since on the contrary of interactions on social networks often with strangers or network specific connections without previous or even future physical contacts, people rarely call of text people they don't know. Telecom network are therefore more important to understand social relationships.\n",
    "\n",
    "Credit card informations or like in the study financial statements, are informing on actual actions of subjects vs. just interaction or browsing on web or mobile apps showing people needs and interests in a realized view, not simply at the stage of wish or curiosity. This information shows at what people commit more strongly.\n",
    "\n",
    "Physical interaction networks that can be collected through GPS, Bluetooth or Wifi positioning and proximity scanning bring information on diffusion phenomenons like diseases or virus propagation and are obviously interesting to study movements. Different degrees of commitment can be shown in this information or those relations, from just passing by to interracting physically.\n",
    "\n",
    "Facebook, Twitter or LinkedIn and other social networks are interesting to study rumors, their trends and their modalities of diffusion. Those network correspond more at the way people want to be perceive than at what they actually are."
   ]
  },
  {
   "cell_type": "markdown",
   "metadata": {},
   "source": [
    "<br>\n",
    "<div class=\"alert alert-info\">\n",
    "<b>Exercise 2 End.</b>\n",
    "</div>\n",
    "\n",
    "> **Exercise complete**:\n",
    "    \n",
    "> This is a good time to \"Save and Checkpoint\"."
   ]
  },
  {
   "cell_type": "markdown",
   "metadata": {},
   "source": [
    "# 7. System architecture\n",
    "> **Review**: Section 5 of the referenced paper.\n",
    "\n",
    "The focus of the provided paper is on the mobile phone platform. It defines the sensors utilized and describes the data formats, data movement protocols, and the data storage structure.\n",
    "\n",
    "The **system architecture** is a conceptual model that defines and describes the technical components contained in the system structure as well as the system’s behavior. It is typically used for planning and communication purposes where the components need to be described to interested parties.\n",
    "\n",
    "Typically you would want to create a system that delivers fast and scalable results, and the components selected would vary greatly based on available existing resources as well as new requirements and options. You would typically start with a conceptual or logical model that describes the functions and flow of information in the system. At a later stage of the process you would revisit granular details, such as the physical implementation and specific components utilized.\n",
    "\n",
    "Many get stuck on trying to select the technology first, then extending and revisiting the logical and conceptual models at later stages. This approach carries the risk of diluting the purpose and getting lost in technicalities rather than focusing on the defined purpose.\n",
    "\n",
    "Privacy considerations will be addressed in the second notebook of this module. However, at this stage it is important to note that traditional methods applied to anonymize data in relational or file-based systems are usually no longer adequate. This necessitates approaches such as “privacy by design” to ensure that you deal with sensitive and potentially sensitive data appropriately. Consider data collected for internal and external use. Your internal researchers may require access to granular and unmasked data, while other business users or applications should only be able to access anonymized datasets.\n",
    "\n",
    "While the technical components of systems architecture fall outside of the scope of the course, the following section briefly outlines a number of items that you should carefully consider when defining your architecture.\n",
    "\n",
    "## 7.1 Dealing with Data\n",
    "Consider the following points on dealing with data before defining your target system architecture:\n",
    "* Sourced data can be stored as files or in dedicated structures such as databases. These databases can either be relational or non-relational, and their physical implementation should be based on function and cost considerations. A number of implementation alternatives exist, and you can review two of the most popular structures - logical data warehouses and data lakes.\n",
    "* Interacting with the data can be done via a wide variety of tools, and the choice of technology will determine the available options. The data can be accessed via BI tools, Excel, SQL or APIs (application program interfaces). These concepts are not described in detail here, however, you are encouraged to perform your own research should the topics be of interest to you.\n",
    "* Data governance and data definitions need to be maintained over time and are typically of use to multiple stakeholders in your organization. While controlling these in the analytic phase often ensures quick time to action, it is important to hand these over to stable structures to avoid having to repeat the actions on an ongoing basis. The advantage of this approach is that you will start building rich, \"trusted\" data structures that you can access for future use cases. In addition to this, your insights can start to form part of the internal reporting structures for your organization (if they exist).\n",
    "* Methodologies applied in traditional business intelligence (BI) approaches are usually based on waterfall methodologies. Analytic projects tend to be better suited to agile or \"fail-fast\" methodologies that promote quicker time-to-value and iterative approaches. Once you have determined that your analysis holds value, you can decide on the appropriate action to implement on a more permanent basis. This is instead of committing to large projects before being able to ascertain or confirm that the project is feasible and can be implemented."
   ]
  },
  {
   "cell_type": "markdown",
   "metadata": {},
   "source": [
    "<br>\n",
    "<div class=\"alert alert-info\">\n",
    "<b>Exercise 3 Start.</b>\n",
    "</div>\n",
    "\n",
    "### Instructions\n",
    "\n",
    "> Provide a short description of a recent technological component or trend that you think is significant. This should be selected based on your personal experience or interests, as many of the topics fall outside of the scope of the course.\n",
    "\n",
    "> a) State your hypothetical social analytics use case (for context).\n",
    "\n",
    "> b) State the technological component or trend and provide a short, relevant motivation for selecting this component. The description should contain at least five key points and can include benefits or potential risks to the technology or trend.\n",
    "\n",
    "> **Hint**: API's, mobile applications, cloud-based computing, and interactive computing are examples of topics that are not covered in detail in this course. Should you wish to do so, you can also base your answer on technological concepts introduced in this course."
   ]
  },
  {
   "cell_type": "markdown",
   "metadata": {},
   "source": [
    "**a.** An API dedicated to survey sector or industry specific groups of professional like C-levels, heads of brands or business units, or managers in product development, product innovation, finance, HR, compliance or legal departments would be very useful, time and budget saving for strategy consulting firms vs the current state of practice consisting in sending periodically questionnaires, or doing phone an interviews to those large audiences. And it would allow consulting firms to run those survey more often on large scale samples of firms either focusing on small and medium size businesses, targeting large companies like Fortune 500s or specifically startups. Besides, once built, the database on contacts underlying the app could be use to automatically find Twitter and LinkedIn accounts of those subjects to bring additional datasets through the collect and analysis of their postings and the postings of their companies. Anonymized the data collection of such surveys could be an incentive to respondents to be more open and express more personal opinion than in a PR controlled environment, and social network postings text analysis could help to confirm or infirm the data collected in the survey. The risk is the fear of respondent of de-identification of the data, privacy and security of the dataset, non diffusion of their responses for commercial purpose and their fear to breach NDAs and contractual or other legal limits. Such API does not exist yet and main survey tools remain Survey Monkey, SurveyGizmo, Google Forms, FluidSurveys or Qualtrics phone and onsite interviews or email/mailing questionnaires, harder to process.\n",
    "\n",
    "**b.** The technological components would be the following I believe:\n",
    "\n",
    "- Mobile survey application: to allow mobile responses or notifications and accommodate usual high mobility of consultants. The risk here is a low installation rate, data leaks if stolen or lost phones, hacking and crashing/debugging.\n",
    "\n",
    "- Online survey website: to give an alternative to mobile use when in sedentary mode. The risk is hacking or maintenance issues.  \n",
    "\n",
    "- Sequel Pro, MySQL or Microsoft SQL database: to record respondents data and contact information. A data physically secured and de-identified are the most important risk here.\n",
    "\n",
    "- Open public API: to sets of requirements that govern how the application can talk to others and enable expose content to internal or external audiences. Low use from developers and security could be the risks here.\n",
    "\n",
    "- Server-side back-end: to processes incoming files and inserts them into the central database, sends email reports to the research team about the status of survey application installation and alerts of any issues, or remotely patch and update application and website. Additional services provide data for survey management and personal data visualization for participants. Data storage, security and de-identification are at risk of overheating or power outage.\n",
    "\n",
    "- An object-relational-mapper (ORM): to enables representing all data as code objects, ensure application persistence and simplify the development of applications using the data. Risk is probably slow time response of queries. "
   ]
  },
  {
   "cell_type": "markdown",
   "metadata": {},
   "source": [
    "<br>\n",
    "<div class=\"alert alert-info\">\n",
    "<b>Exercise 3 End.</b>\n",
    "</div>\n",
    "\n",
    "> **Exercise complete**:\n",
    "    \n",
    "> This is a good time to \"Save and Checkpoint\"."
   ]
  },
  {
   "cell_type": "markdown",
   "metadata": {},
   "source": [
    "# 8. Project checklist\n",
    "When carrying out the phases of a project (plan), it is helpful to make use of a checklist to ensure each step in the plan is executed, and each aspect accounted for. The following sections outline typical phases of a project plan, and highlight some of the items that should be added to your checklists.\n",
    "\n",
    "## 8.1 Phase 0\n",
    "* Research the topic under review as well as related topics that can be used to add context.\n",
    "* Define your project framework.\n",
    "    * Define the vision and scope of the project.\n",
    "    * Review your value perspective. \n",
    "        * List value drivers. How will you measure success? (monetization, ROI, etc.)\n",
    "    * Define security and access policies.\n",
    "    * Identify use cases and stakeholders.\n",
    "    * Feasibility checks. \n",
    "    * High-level conceptual architecture.\n",
    "- Pilot projects typically focus on prioritized use cases.\n",
    "    * Describe and prioritize use cases.\n",
    "        * Often based on business impact, timing (availability and access to data), complexity, and effort.\n",
    "    * Source and transform data.\n",
    "    * Data analysis typically follows the same steps as listed in previous modules with short iterations.\n",
    "\n",
    "## 8.2 Phase 1\n",
    "* Create a roadmap or an implementation plan.\n",
    "    * Plan the activities and resources required to execute the plan.\n",
    "    * The data analysis cycle includes:\n",
    "        * Collection;\n",
    "        * Pre-processing;\n",
    "        * Hygiene;\n",
    "        * Analysis (a combination of analytic techniques);\n",
    "        * Visualization;\n",
    "        * Interpretation; and\n",
    "        * Intervention, which may include operationalized insights or a policy definition.\n",
    "\n",
    "## 8.3 Phase 2\n",
    "Project termination generally requires dependencies to be removed and data to be dealt with appropriately. Ensure that you are aware of the legal requirements when disposing of or archiving sensitive data. Architecture documents describing both systems and interactions between different systems can be of significant value during this phase."
   ]
  },
  {
   "cell_type": "markdown",
   "metadata": {},
   "source": [
    "> **Note**: In the second part of this notebook, which you will review in Module 7, you will revisit technical sections six to eleven as well as the conclusion of the referenced paper."
   ]
  },
  {
   "cell_type": "markdown",
   "metadata": {},
   "source": [
    "<br>\n",
    "<div class=\"alert alert-info\">\n",
    "<b>Exercise 4 Start.</b>\n",
    "</div>\n",
    "\n",
    "### Instructions\n",
    "Project management methodologies and best practices can ensure that you get started quickly, but can also introduce a significant amount of overheads. These \"best practices\" can be used to guide you in unknown areas and help you deal with the complexities of running large projects.\n",
    "\n",
    "> List two problems that you expect to experience when attempting to scale small-scale or ad-hoc analyses to large-scale implementations; or when incorporating these analyses within large organizations. Propose simple corrective actions for each.\n",
    "\n",
    "> **Note**: These concepts are not dealt with in detail in this course. We are looking for insights based on the tools and technologies introduced in this course rather than attempting to test your knowledge of the various frameworks that exist."
   ]
  },
  {
   "cell_type": "markdown",
   "metadata": {},
   "source": [
    "**Scaling up is a guided process of diffusion of innovation, in contrast to a spontaneous process.** A scaling-up strategy is a combination of plans and subsequent actions, controls and corrections necessary to establish the innovation in corporate policies, programmes and product/service delivery processes. A report of the UN World Health Organization and ExpandNet lists \"Nine steps for developing a scaling-up strategy\" (http://www.expandnet.net/PDFs/ExpandNet-WHO%20Nine%20Step%20Guide%20published.pdf):\n",
    "\n",
    ">\"Step 1.\t Planning actions to increase the scalability of the innovation.\n",
    ">Step 2.\t Increasing the capacity of the user organization to implement scaling up.\n",
    ">Step 3.\t Assessing the environment and planning actions to increase the potential for scaling-up success.\n",
    ">Step 4.\t Increasing the capacity of the resource team to support scaling up.\n",
    ">Step 5.\t Making strategic choices to support vertical scaling up (institutionalization).\n",
    ">Step 6.\t Making strategic choices to support horizontal scaling up (expansion/replication).\n",
    ">Step 7.\t Determining the role of diversification.\n",
    ">Step 8.\t Planning actions to address spontaneous scaling up.\n",
    ">Step 9.\t Finalizing the scaling-up strategy and identifying next steps.\"\n",
    "\n",
    "The report defines different types of scaling up:\n",
    "\n",
    "- Vertical scaling up—institutionalization through policy, political, legal, budgetary or other systems change.\n",
    "\n",
    "- Horizontal scaling up—expansion or replication,\n",
    "\n",
    "- Diversification,\n",
    "\n",
    "- Spontaneous.\n",
    "\n",
    "Problems can arise for example when the planning is weak lacking definition of the innovation, user organizations, its environment or the resource team. The analysis of those elements should conclude on recommendations to simplify the innovation to ease the transfer to user organizations, build training capacities inside user organizations, improve adherence to sectorial rregulations and monitoring reforms, or better plan workforce management and shortages.\n",
    "\n",
    "Failing to capture the business requirements is a common source of failure in project management. Indeed, apropriate concertation and internal/external interviews and meetings are needed to make sure allt the elements are taken into consideration from definition of the vision, goals, scope and requirements to the expected results by milestones and deliverable with conrresponding deadlines, storage, security, compliance or legal aspects.\n",
    "\n",
    "Other issues can be ignoring or underestimating costs and resource mobilization or not defining properly methods and metrics of monitoring and evaluation."
   ]
  },
  {
   "cell_type": "markdown",
   "metadata": {},
   "source": [
    "<br>\n",
    "<div class=\"alert alert-info\">\n",
    "<b>Exercise 4 End.</b>\n",
    "</div>\n",
    "\n",
    "> **Exercise complete**:\n",
    "    \n",
    "> This is a good time to \"Save and Checkpoint\"."
   ]
  },
  {
   "cell_type": "markdown",
   "metadata": {},
   "source": [
    "## 9. Submit your notebook\n",
    "\n",
    "Please make sure that you:\n",
    "- Perform a final \"Save and Checkpoint\";\n",
    "- Download a copy of the notebook in \".ipynb\" format to your local machine using \"File\", \"Download as\", and \"IPython Notebook (.ipynb)\", and\n",
    "- Submit a copy of this file to the online campus."
   ]
  },
  {
   "cell_type": "markdown",
   "metadata": {
    "collapsed": true
   },
   "source": [
    "# 10. References\n",
    "Aharony, Nadav, Wei Pan, Cory Ip, Inas Khayal, Alex Pentland. 2011. “SocialfMRI: Investigating and shaping social mechanisms in the real world.” Pervasive and Mobile Computing 7:643-659."
   ]
  },
  {
   "cell_type": "code",
   "execution_count": null,
   "metadata": {
    "collapsed": true
   },
   "outputs": [],
   "source": []
  }
 ],
 "metadata": {
  "kernelspec": {
   "display_name": "Python 2",
   "language": "python",
   "name": "python2"
  },
  "language_info": {
   "codemirror_mode": {
    "name": "ipython",
    "version": 2
   },
   "file_extension": ".py",
   "mimetype": "text/x-python",
   "name": "python",
   "nbconvert_exporter": "python",
   "pygments_lexer": "ipython2",
   "version": "2.7.12"
  },
  "nbpresent": {
   "slides": {
    "51c98b7c-6827-4ecf-b471-43fc2c6b1d57": {
     "id": "51c98b7c-6827-4ecf-b471-43fc2c6b1d57",
     "prev": "669d0c7f-dda7-4e2e-accf-5fb27fe27092",
     "regions": {
      "d05e5847-63ff-49ed-9d77-2120fdc680ca": {
       "attrs": {
        "height": 0.8,
        "width": 0.8,
        "x": 0.1,
        "y": 0.1
       },
       "content": {
        "cell": "1ea3463b-683e-48a7-a296-2976cf4294fc",
        "part": "whole"
       },
       "id": "d05e5847-63ff-49ed-9d77-2120fdc680ca"
      }
     }
    },
    "669d0c7f-dda7-4e2e-accf-5fb27fe27092": {
     "id": "669d0c7f-dda7-4e2e-accf-5fb27fe27092",
     "prev": "82740c40-8fd2-45d3-8b64-89c8c263e00d",
     "regions": {
      "61e6d7fa-56b6-457c-af82-457d0affb78c": {
       "attrs": {
        "height": 0.8,
        "width": 0.8,
        "x": 0.1,
        "y": 0.1
       },
       "content": {
        "cell": "e1812ba0-1887-476b-aeb1-75b86467853e",
        "part": "whole"
       },
       "id": "61e6d7fa-56b6-457c-af82-457d0affb78c"
      }
     }
    },
    "82740c40-8fd2-45d3-8b64-89c8c263e00d": {
     "id": "82740c40-8fd2-45d3-8b64-89c8c263e00d",
     "layout": "grid",
     "prev": "f19d3e2b-ec0d-4dc2-9e14-90625e188e51",
     "regions": {
      "1c13376d-0acd-4dff-869e-78071adaf6c5": {
       "attrs": {
        "height": 1,
        "pad": 0.01,
        "treemap:weight": 1,
        "width": 1,
        "x": 0,
        "y": 0
       },
       "content": {
        "cell": "2ac82bad-ee45-4afa-a652-0b631ec1ee5d",
        "part": "whole"
       },
       "id": "1c13376d-0acd-4dff-869e-78071adaf6c5"
      }
     }
    },
    "ccc094d7-c888-4db9-9ba0-0e9fefbcf1b1": {
     "id": "ccc094d7-c888-4db9-9ba0-0e9fefbcf1b1",
     "prev": "51c98b7c-6827-4ecf-b471-43fc2c6b1d57",
     "regions": {
      "fd87bd4f-9581-45a6-a041-768a45dda711": {
       "attrs": {
        "height": 0.8,
        "width": 0.8,
        "x": 0.1,
        "y": 0.1
       },
       "content": {
        "cell": "ddd743e7-874f-426b-bd3d-d20170dfeb6d",
        "part": "whole"
       },
       "id": "fd87bd4f-9581-45a6-a041-768a45dda711"
      }
     }
    },
    "f19d3e2b-ec0d-4dc2-9e14-90625e188e51": {
     "id": "f19d3e2b-ec0d-4dc2-9e14-90625e188e51",
     "prev": null,
     "regions": {
      "e135c2f5-be4b-4c16-adde-5725e4fbae36": {
       "attrs": {
        "height": 0.8,
        "width": 0.8,
        "x": 0.1,
        "y": 0.1
       },
       "content": {
        "cell": "84a55226-019d-412a-8145-30f592a926e4",
        "part": "whole"
       },
       "id": "e135c2f5-be4b-4c16-adde-5725e4fbae36"
      }
     }
    }
   },
   "themes": {}
  }
 },
 "nbformat": 4,
 "nbformat_minor": 0
}
