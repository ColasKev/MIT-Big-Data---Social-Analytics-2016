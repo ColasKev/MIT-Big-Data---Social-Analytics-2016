{
 "cells": [
  {
   "cell_type": "markdown",
   "metadata": {},
   "source": [
    "<div align=\"right\">Python 2.7 Jupyter Notebook</div>"
   ]
  },
  {
   "cell_type": "markdown",
   "metadata": {},
   "source": [
    "# Refreshing your virtual analysis environment and additional resources"
   ]
  },
  {
   "cell_type": "markdown",
   "metadata": {},
   "source": [
    "### Introduction\n",
    "\n",
    "We will release content at the start of each module and you will need to visit this notebook before starting a new module.\n",
    "In the first step you will update the notebook itself. After refreshing the page (F5) additional instructions will be visible in the remainder of the Notebook.\n",
    "\n",
    "Please remember that we will **force an update** and that any changes you make to this notebook will be lost when you refresh the notebook. Should you make any changes that you want to keep, please save the notebook under a different file name. Please make sure that you download copies of all the notebooks that you have changed and need to keep to your local device."
   ]
  },
  {
   "cell_type": "markdown",
   "metadata": {},
   "source": [
    "## 1. Update this notebook\n",
    "### 1.1 Update this notebook (M0_NB2_AdditionalResources)\n",
    "\n",
    "<br>\n",
    "<div class=\"alert alert-warning\">\n",
    "<b>Execute the cell below.</b>\n",
    "</div>"
   ]
  },
  {
   "cell_type": "code",
   "execution_count": null,
   "metadata": {
    "collapsed": false,
    "scrolled": true
   },
   "outputs": [],
   "source": [
    "## Forced update of M0_NB2_AdditionalResources.ipynb.\n",
    "!svn export https://github.com/getsmarter/bda/trunk/module_0/M0_NB2_AdditionalResources.ipynb /home/ubuntu/projects/module_0/ --force\n",
    "\n",
    "## Update images required for this notebook.\n",
    "!svn export https://github.com/getsmarter/bda/trunk/module_0/NotebooksRunningAll.png /home/ubuntu/projects/module_0/ --force\n",
    "!svn export https://github.com/getsmarter/bda/trunk/module_0/NotebooksRunningNone.png /home/ubuntu/projects/module_0/ --force\n",
    "!svn export https://github.com/getsmarter/bda/trunk/module_0/NotebooksRunningOne.png /home/ubuntu/projects/module_0/ --force"
   ]
  },
  {
   "cell_type": "markdown",
   "metadata": {},
   "source": [
    "You should see:\n",
    "> `A    M0_NB2_AdditionalResources.ipynb`\n",
    "\n",
    "> `Export complete.`"
   ]
  },
  {
   "cell_type": "markdown",
   "metadata": {},
   "source": [
    "### 1.2 Refresh this page in your browser to reflect changes in the notebook. \n",
    "Press F5 or manually refresh this page. You should see a cell with the latest module available below."
   ]
  },
  {
   "cell_type": "markdown",
   "metadata": {},
   "source": [
    "Status: <font color='green'><b>Module 5 content added - Version 1.00.</b></font>"
   ]
  },
  {
   "cell_type": "markdown",
   "metadata": {},
   "source": [
    "<br>\n",
    "<div class=\"alert alert-warning\">\n",
    "<b>Note to all users.</b>\n",
    "As per the previous week, it is important to shut down all notebooks not in use to ensure that you have as much processing capacity available as possible when completing the practical assessments. \n",
    "\n",
    "You typically pay for the amount of cloud resources that you utilize and shutting down items not used typically means incurring less expenses while offering improved user experience due to the maximum amount of resources being available for the task at hand.\n",
    "</div>\n",
    "\n",
    "> **Shutting down running notebooks**:\n",
    "\n",
    "> You can shut down notebooks in a number of ways. The is the first is to select \"File\" and then \"Close and Halt\" from within the running notebook. The second, which we recommend using during this module, is to navigate to your directory view by first selecting the Jupyter logo at the top left of your screen or switching to a browser window where you already have this open. Select the \"Running\" tab at the top of the screen and shut down all notebooks that you do not require by selecting the \"Shutdown\" option on the right of the screen.\n",
    "\n",
    "> ![Running Notebooks](NotebooksRunningAll.png \"Image of notebooks currently running.\")\n",
    "\n",
    "You can try this now and shut down all notebooks apart from the current notebook, M0_NB2_AdditionalResources. After shutting down other notebooks, your screen should look similar to the screenshot below.\n",
    "\n",
    "> ![Running Notebooks](NotebooksRunningOne.png \"Image of only the current notebook running.\")\n",
    "\n",
    "When you have completed your environment refresh or prior to starting a new notebook, you can revisit the \"Running\" tab on your directory view and shut down all notebooks.\n",
    "\n",
    "> ![Running Notebooks](NotebooksRunningNone.png \"Image of no running notebooks.\")\n",
    "\n",
    "\n",
    "> **NOTE to non-technical users**:\n",
    "\n",
    "> We utilise this mechanism to avoid additional effort on your behalf to update and refresh your environment. The process has been designed to ensure that you can select and run all the cells below and you do not need to understand the detail of the steps completed. Optional items will be marked clearly.\n",
    "\n",
    "> When executing the commands, you only need to review the status messages that appear below the cells that you execute. We do not want to overwrite changes that you have made to files and apart from this notebook, our process will not overwrite any files that already exist in the various directories. Should you receive an error message that the file already exist, you will need to manually remove or rename existing files before coming back to this notebook and resuming the process from the point where you received the error."
   ]
  },
  {
   "cell_type": "markdown",
   "metadata": {},
   "source": [
    "## 2. Additional resources - Module 5\n",
    "**Please read the instructions that we provide carefully and proceed to execute all cells not specifically marked as optional.**\n",
    "\n",
    "This week we will:\n",
    "- Install additional libraries.\n",
    "- Load data sources and additional files required.\n",
    "- Load the notebooks required.\n",
    "\n",
    "Should you receive error messages which you are not able to resolve with the guidelines below, please reach out to technical support to assist you."
   ]
  },
  {
   "cell_type": "markdown",
   "metadata": {},
   "source": [
    "### 2.1 Install additional libraries\n",
    "> **Info**:\n",
    "\n",
    "> You can install additional libraries in your command line or directly from a notebook.\n",
    "This section is used to update your virtual analysis environment by installing the libraries that you will require to complete the exercises.\n",
    "It is possible to install additional libraries, but we strongly encourage students not to install additional libraries while the course is in progress to ensure that your environment remains stable."
   ]
  },
  {
   "cell_type": "markdown",
   "metadata": {},
   "source": [
    "#### 2.1.1 Update bandicoot, scipy and scikit-learn and install mlxtend\n",
    "\n",
    "<br>\n",
    "<div class=\"alert alert-warning\">\n",
    "<b>Execute each of the four cells below.</b>\n",
    "</div>"
   ]
  },
  {
   "cell_type": "code",
   "execution_count": null,
   "metadata": {
    "collapsed": true
   },
   "outputs": [],
   "source": [
    "# Remove outdated or broken packages.\n",
    "!sudo /usr/bin/yes | pip uninstall scikit-learn\n",
    "!sudo /usr/bin/yes | pip uninstall scipy\n",
    "!sudo /usr/bin/yes | pip uninstall bandicoot"
   ]
  },
  {
   "cell_type": "code",
   "execution_count": null,
   "metadata": {
    "collapsed": true
   },
   "outputs": [],
   "source": [
    "# Reinstall scipy and scikit-learn.\n",
    "!pip install scipy --target=/home/ubuntu/.local/lib/python2.7/site-packages\n",
    "!pip install scikit-learn --target=/home/ubuntu/.local/lib/python2.7/site-packages"
   ]
  },
  {
   "cell_type": "code",
   "execution_count": null,
   "metadata": {
    "collapsed": true
   },
   "outputs": [],
   "source": [
    "# Reinstall updated version of bandicoot.\n",
    "!pip install --target=/home/ubuntu/.local/lib/python2.7/site-packages bandicoot"
   ]
  },
  {
   "cell_type": "code",
   "execution_count": null,
   "metadata": {
    "collapsed": true
   },
   "outputs": [],
   "source": [
    "# Install mlxtend.\n",
    "!pip install --target=/home/ubuntu/.local/lib/python2.7/site-packages git+git://github.com/rasbt/mlxtend.git#egg=mlxtend"
   ]
  },
  {
   "cell_type": "markdown",
   "metadata": {},
   "source": [
    "That's it for libraries. Lets move to populating data sets and other supporting files."
   ]
  },
  {
   "cell_type": "markdown",
   "metadata": {},
   "source": [
    "### 2.2 Data Sources and supporting files for Module 5\n",
    "You should execute the cell below and will see a line containing the status for each statement.\n",
    "This action should be performed once. Subsequent attempts to execute the cell will fail as the files will already exist. Should you wish to refresh the files, you will need to manually remove the files from the relevant module directory before executing the cell again."
   ]
  },
  {
   "cell_type": "markdown",
   "metadata": {},
   "source": [
    "<br>\n",
    "<div class=\"alert alert-warning\">\n",
    "<b>Execute the cell below to update images required for Module 5.</b>\n",
    "</div>"
   ]
  },
  {
   "cell_type": "code",
   "execution_count": null,
   "metadata": {
    "collapsed": false
   },
   "outputs": [],
   "source": [
    "# Additional data content.\n",
    "!svn export https://github.com/getsmarter/bda/trunk/data/bandicoot/ /home/ubuntu/projects/data/bandicoot/ --force\n",
    "!svn export https://github.com/getsmarter/bda/trunk/module_5/bandicoot-training-master/ /home/ubuntu/projects/module_5/bandicoot-training-master/\n",
    "!svn export https://github.com/getsmarter/bda/trunk/module_5/viz/ /home/ubuntu/projects/module_5/viz/\n",
    "!svn export https://github.com/getsmarter/bda/trunk/module_5/Gender_features.png /home/ubuntu/projects/module_5/\n",
    "!svn export https://github.com/getsmarter/bda/trunk/module_5/all_features.csv /home/ubuntu/projects/module_5/\n",
    "!svn export https://github.com/getsmarter/bda/trunk/module_5/fnf_features.csv /home/ubuntu/projects/module_5/"
   ]
  },
  {
   "cell_type": "markdown",
   "metadata": {
    "collapsed": true
   },
   "source": [
    "### 2.3 Notebooks for Module 5\n",
    "> **Info**:\n",
    "\n",
    "> When executing the cell below you will see a status message for each of the lines.\n",
    "The status will either be that \"the destination file exists and will not be overridden unless forced\" or \"export complete\". The first message means that the notebook has not been refreshed and you will need to go to the relevant directory and change the filename or remove the file before retrying to refresh. The second means that a copy of the file has been uploaded to your virtual analysis environment.\n",
    "\n",
    "Your directory will not contain any notebooks when you execute this command the first time and it should complete with three messages indicating \"export complete\".\n",
    "\n",
    "<br>\n",
    "<div class=\"alert alert-warning\">\n",
    "<b>Execute the cell below to update notebooks for Module 5.</b>\n",
    "</div>"
   ]
  },
  {
   "cell_type": "code",
   "execution_count": null,
   "metadata": {
    "collapsed": false
   },
   "outputs": [],
   "source": [
    "# Add Module 5 notebooks to your virtual analysis environment\n",
    "!svn export https://github.com/getsmarter/bda/trunk/module_5/M5_NB1_BandicootIntroduction_Both_Technical_and_Non_Technical.ipynb /home/ubuntu/projects/module_5/   \n",
    "!svn export https://github.com/getsmarter/bda/trunk/module_5/M5_NB2_BandicootMachineLearning_Non_Technical.ipynb /home/ubuntu/projects/module_5/   \n",
    "!svn export https://github.com/getsmarter/bda/trunk/module_5/M5_NB2_BandicootMachineLearning_Technical.ipynb /home/ubuntu/projects/module_5/   "
   ]
  },
  {
   "cell_type": "markdown",
   "metadata": {},
   "source": [
    "### 2.4 Refresh specific notebooks [OPTIONAL] \n",
    "In cases where you have made changes to the notebook and wish to return the notebook to its original state, you will have to ensure that there are no files with the original names in the relevant directory.\n",
    "\n",
    "> **Info**:\n",
    "\n",
    "> You only need to look at this section if you wish to refresh specific notebooks to their original state.\n",
    "\n",
    "You can rename or remove the existing files in the directory and then uncomment the relevant line or lines below to refresh your environment.\n",
    "\n",
    "> ** Note**: \n",
    "\n",
    "> Statements in code blocks that start with # are viewed as comments and is not executed when running the cell."
   ]
  },
  {
   "cell_type": "code",
   "execution_count": null,
   "metadata": {
    "collapsed": true
   },
   "outputs": [],
   "source": [
    "# All students: Uncomment the line below to refresh the notebook for all students.\n",
    "#!svn export https://github.com/getsmarter/bda/trunk/module_5/M5_NB1_BandicootIntroduction_Both_Technical_and_Non_Technical.ipynb /home/ubuntu/projects/module_5/   \n",
    "\n",
    "# Non-technical notebooks: Uncomment the line below.\n",
    "#!svn export https://github.com/getsmarter/bda/trunk/module_5/M5_NB2_BandicootMachineLearning_Non_Technical.ipynb /home/ubuntu/projects/module_5/   \n",
    "\n",
    "# Technical notebooks: Uncomment the three lines below.\n",
    "#!svn export https://github.com/getsmarter/bda/trunk/module_5/M5_NB2_BandicootMachineLearning_Technical.ipynb /home/ubuntu/projects/module_5/   \n"
   ]
  },
  {
   "cell_type": "markdown",
   "metadata": {
    "collapsed": true
   },
   "source": [
    "## 3 Refresh content from previous modules\n",
    "Use this section with care and make sure that you read the instructions carefully.\n",
    "You can update libraries and refresh data sets without risk, but forcing updates to the notebooks will overwrite any changes you made to the files if you have not changed the file names."
   ]
  },
  {
   "cell_type": "markdown",
   "metadata": {},
   "source": [
    "### 3.1 Update libraries and data sources from previous modules [OPTIONAL]\n",
    "> **Info**:\n",
    "\n",
    "> You should not need to revisit this section. In cases where you need to reinstall specific libraries or where you did not execute the statements during previous modules, you will have to uncomment the update statements and execute the cell below."
   ]
  },
  {
   "cell_type": "code",
   "execution_count": null,
   "metadata": {
    "collapsed": true
   },
   "outputs": [],
   "source": [
    "# M1 libraries\n",
    "#!pip install --target=/home/ubuntu/.local/lib/python2.7/site-packages folium\n",
    "#!pip install --target=/home/ubuntu/.local/lib/python2.7/site-packages geocoder\n",
    "\n",
    "# M2 libraries.\n",
    "#!pip install --target=/home/ubuntu/.local/lib/python2.7/site-packages pandas-datareader\n",
    "#!pip install --target=/home/ubuntu/.local/lib/python2.7/site-packages wikipedia\n",
    "#!pip install --target=/home/ubuntu/.local/lib/python2.7/site-packages bandicoot\n",
    "\n",
    "# M3 libraries.\n",
    "#!pip install --target=/home/ubuntu/.local/lib/python2.7/site-packages tqdm\n",
    "\n",
    "# M3 libraries.\n",
    "#!pip install --target=/home/ubuntu/.local/lib/python2.7/site-packages python-louvain==0.3\n",
    "\n",
    "# M4 libraries.\n",
    "#!pip install --target=/home/ubuntu/.local/lib/python2.7/site-packages python-louvain==0.3\n",
    "\n",
    "# Refresh the data directory to contain the files you require for the exercises using the force option to ensure\n",
    "#    that you have a clean dataset to start your exercises. Note that this command can take a while to complete.\n",
    "#!svn export https://github.com/getsmarter/bda/trunk/data/ /home/ubuntu/projects/data/ --force"
   ]
  },
  {
   "cell_type": "markdown",
   "metadata": {},
   "source": [
    "### 3.2 Refresh previous notebooks [OPTIONAL]\n",
    "The instructions for uncommenting statements and the process to follow is the same as in section 2.4 of this notebook. Those interested in testing the process can refresh the \"Getting Started\" notebook in the Orientation module.\n",
    "\n",
    "> **Note**:\n",
    "> The statements below will fail if the file already exist and you will need to rename or remove files with the same names in the relevant directories. This is done in order to avoid overwriting changes that you have applied to the various notebooks."
   ]
  },
  {
   "cell_type": "code",
   "execution_count": null,
   "metadata": {
    "collapsed": false
   },
   "outputs": [],
   "source": [
    "# Orientation module\n",
    "#!svn export https://github.com/getsmarter/bda/trunk/module_0/M0_NB1_GettingStarted.ipynb /home/ubuntu/projects/module_0/\n",
    "#!svn export https://github.com/getsmarter/bda/trunk/module_0/NotebooksRunningAll.png /home/ubuntu/projects/module_0/\n",
    "#!svn export https://github.com/getsmarter/bda/trunk/module_0/NotebooksRunningNone.png /home/ubuntu/projects/module_0/\n",
    "#!svn export https://github.com/getsmarter/bda/trunk/module_0/NotebooksRunningOne.png /home/ubuntu/projects/module_0/\n",
    "\n",
    "# Module 1\n",
    "#!svn export https://github.com/getsmarter/bda/trunk/module_1/M1_NB1_PythonIntro.ipynb /home/ubuntu/projects/module_1/\n",
    "#!svn export https://github.com/getsmarter/bda/trunk/module_1/M1_NB2_DataAnalysisBasics.ipynb /home/ubuntu/projects/module_1/\n",
    "#!svn export https://github.com/getsmarter/bda/trunk/module_1/M1_NB3_DataConsiderations.ipynb /home/ubuntu/projects/module_1/\n",
    "\n",
    "# Module 2\n",
    "#!svn export https://github.com/getsmarter/bda/trunk/module_2/M2_NB1_SourcesOfData.ipynb /home/ubuntu/projects/module_2/\n",
    "#!svn export https://github.com/getsmarter/bda/trunk/module_2/M2_NB2_FunFIntroduction.ipynb /home/ubuntu/projects/module_2/\n",
    "#!svn export https://github.com/getsmarter/bda/trunk/module_2/M2_NB3_CollectYourOwnData.ipynb /home/ubuntu/projects/module_2/\n",
    "\n",
    "# Module 3\n",
    "#!svn export https://github.com/getsmarter/bda/trunk/module_3/M3_NB1_BSSID.ipynb /home/ubuntu/projects/module_3/\n",
    "#!svn export https://github.com/getsmarter/bda/trunk/module_3/M3_NB2_NoiseVsBias.ipynb /home/ubuntu/projects/module_3/\n",
    "#!svn export https://github.com/getsmarter/bda/trunk/module_3/M3_NB3_GeotaggingWiFiAP.ipynb /home/ubuntu/projects/module_3/\n",
    "\n",
    "# Module 4\n",
    "#!svn export https://github.com/getsmarter/bda/trunk/module_4/M4_NB1_NetworkX_Both_Technical_and_Non_Technical.ipynb /home/ubuntu/projects/module_4/   \n",
    "#!svn export https://github.com/getsmarter/bda/trunk/module_4/M4_NB2_PeerNetworkAnalysis_Non_Technical.ipynb /home/ubuntu/projects/module_4/\n",
    "#!svn export https://github.com/getsmarter/bda/trunk/module_4/M4_NB2_PeerNetworkAnalysis_Technical.ipynb /home/ubuntu/projects/module_4/\n",
    "#!svn export https://github.com/getsmarter/bda/trunk/module_4/M4_NB3_NetworkClustering_Non_Technical.ipynb /home/ubuntu/projects/module_4/\n",
    "#!svn export https://github.com/getsmarter/bda/trunk/module_4/M4_NB3_NetworkClustering_Technical.ipynb /home/ubuntu/projects/module_4/\n",
    "#!svn export https://github.com/getsmarter/bda/trunk/module_4/M4_NB4_GraphSignalProcessing_Technical.ipynb /home/ubuntu/projects/module_4/"
   ]
  },
  {
   "cell_type": "markdown",
   "metadata": {},
   "source": [
    "## 4. Additional links or resources"
   ]
  },
  {
   "cell_type": "markdown",
   "metadata": {
    "collapsed": true
   },
   "source": [
    "#### Message from your Tutor Group\n",
    "\n",
    "Welcome to the fifth module of MIT Big Data and Social Analytics.\n",
    "\n",
    "We will send out the welcome note per email this week.\n",
    "\n",
    "Please engage with the tutor team in the forums when you get stuck or when you learn something that you think is really useful.\n",
    "\n",
    "We sincerely hope that you enjoy this course and acquire skills that is of use to you in your personal journey.\n"
   ]
  },
  {
   "cell_type": "code",
   "execution_count": null,
   "metadata": {
    "collapsed": true
   },
   "outputs": [],
   "source": []
  }
 ],
 "metadata": {
  "kernelspec": {
   "display_name": "Python 2",
   "language": "python",
   "name": "python2"
  },
  "language_info": {
   "codemirror_mode": {
    "name": "ipython",
    "version": 2
   },
   "file_extension": ".py",
   "mimetype": "text/x-python",
   "name": "python",
   "nbconvert_exporter": "python",
   "pygments_lexer": "ipython2",
   "version": "2.7.12"
  }
 },
 "nbformat": 4,
 "nbformat_minor": 0
}
