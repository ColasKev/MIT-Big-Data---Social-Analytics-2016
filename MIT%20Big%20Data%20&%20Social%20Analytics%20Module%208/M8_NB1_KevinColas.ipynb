{
 "cells": [
  {
   "cell_type": "markdown",
   "metadata": {},
   "source": [
    "<div align=\"right\">Python 2.7 Jupyter Notebook</div>\n",
    "\n",
    "# Social analytics blueprint\n",
    "<br>\n",
    "<div class=\"alert alert-warning\">\n",
    "<b>This notebook contains exercises for students completing the non-technical track.</b> Note that you will not be disadvantaged for completing only the non-technical notebooks. If you are a more technical student and wish to deepen your understanding and qualify for additional credit, we recommend that you complete the technical notebook instead.\n",
    "</div>\n",
    "\n",
    "### Your completion of the notebook exercises will be graded based on your ability to:\n",
    "\n",
    "> **Understand**: Do your comments show evidence that you recall and understand technical concepts?"
   ]
  },
  {
   "cell_type": "markdown",
   "metadata": {},
   "source": [
    "This notebook is intended to serve as a blueprint that you can use in your future endeavors. You are expected to provide a high-level blueprint of a potential study, because an in-depth blueprint is beyond the scope of the course. The activity will not be graded in detail, therefore one or two sentences for each of the sections is sufficient.\n",
    "\n",
    "> **Note**: Providing the marker with some information regarding your interests, experience, and background will allow for more personalized feedback in the grading. However, this is optional and does not need to be provided.\n",
    "\n",
    "The outline below is provided in an attempt to structure your thoughts. Keep in mind that typical studies, whether in academic or in commercial applications, typically do not follow a straight path. As a result of this, the output is typically produced after many iterations, deviations, and potential changes in course. Living labs are longitudinal and adaptive by nature. In science, researchers uncover insights that may be different from what they originally anticipated, and in business individuals may uncover new and unexpected business and improvement opportunities. You need to ensure that you spend enough time in the exploration phase of real-life projects, while ensuring that you deliver actionable results in the required timeframes. A good approach is to start with a minimum viable product and add features to this product as your project matures."
   ]
  },
  {
   "cell_type": "markdown",
   "metadata": {},
   "source": [
    "<div class=\"alert alert-info\">\n",
    "<b>Exercise 1 Start.</b>\n",
    "</div>\n",
    "\n",
    "### Instructions\n",
    "\n",
    "> Based on the content provided in M6_NB1 (project overview) and M7_NB1 (study overview), create a blueprint for your own topic of interest. Provide a short introductory paragraph stating your choice of industry and topic, and then one or two sentences describing your plan or expectations for each of the sections listed below.\n",
    "\n",
    "> **Note**: You can refer to the image of the scientific method, in notebook 1 of Module 7, as a refresher or the typical workflow observed."
   ]
  },
  {
   "cell_type": "markdown",
   "metadata": {},
   "source": [
    "Your markdown introductory paragraph here."
   ]
  },
  {
   "cell_type": "markdown",
   "metadata": {
    "collapsed": true
   },
   "source": [
    "#### 1. Make observations \n",
    "Typically, this follows the research and context phase of the project plan. List the observations that you would like to study in your project."
   ]
  },
  {
   "cell_type": "markdown",
   "metadata": {},
   "source": [
    "The artisan product consumer pool is growing faster than the overal food & berage consumer population in the US. How among those artisan food & beverage consumers, how are behaving consumers of wine, cheese, cured meat and fine grocery: who are they, what are they buying, how do they consume and when do they consume? It seems that this population is growing with the natural food, authentic food origin, fooding and global traveling trends, is it true and to what extent?"
   ]
  },
  {
   "cell_type": "markdown",
   "metadata": {
    "collapsed": true
   },
   "source": [
    "####  2. Think of interesting questions\n",
    "List a few of the potential questions that you would like to answer in your project."
   ]
  },
  {
   "cell_type": "markdown",
   "metadata": {},
   "source": [
    "Is the artisan food & beverage US consumer population growing faster than the overall US food & beverage consumer population?\n",
    "Who are artisan food & beverage consumer in the US? And who are in more details consumers of wine, cheese, cured meat and fine grocery in the US? How do they get informed? How do they buy? What channels are they using to buy? What do they buy? At what frequency do they buy? What do they prefer? Are what do they buy is driven by what do they prefer or by what is available on the US market by in other words, by default? How do they consume? What make them loyal repeat customers? What are their common points and differences with other types of food & beverage consumers? Are there common behavioral, interest and network traits/characteristics in the artisan food & beverage US consumer population and more specifically the US consumers of artisan wine, cheese, cured meat and fine grocery?"
   ]
  },
  {
   "cell_type": "markdown",
   "metadata": {},
   "source": [
    "####  3. Formulate a hypothesis\n",
    "State one or two hypotheses related to the questions listed in the previous answer."
   ]
  },
  {
   "cell_type": "markdown",
   "metadata": {},
   "source": [
    "1. The population studied, artisan wine, cheese, cured meat and fine grocery US consumers, is a subset of the US artisan food & beverage consumer population, which is itself a subset of the specialty food & beverage consumer population, which is itself a subset of the total US food & beverage consumer population and is growing faster than these parents groups.\n",
    "\n",
    "2. US consumers of artisan wine, cheese, cured meat and fine grocery have common demographics traits.\n",
    "\n",
    "3. US consumers of artisan wine, cheese, cured meat and fine grocery have common interests (traveling, fooding, natural, authentic and treacable foods & beverages, restaurant frequentation, media consumption, social media following, Google search most frequent hobby search terms, etc.).\n",
    "\n",
    "4. US consumers of artisan wine, cheese, cured meat and fine grocery have common expectations (online vs offline shopping, product quality, brand names, country of origin, local vs export, delivery modes, delivery frequency, payment methods, payment frequency, payment one time vs subscription, learning desire, etc.)."
   ]
  },
  {
   "cell_type": "markdown",
   "metadata": {},
   "source": [
    "####  4. Develop testable predictions\n",
    "Briefly describe how you would develop testable predictions."
   ]
  },
  {
   "cell_type": "markdown",
   "metadata": {},
   "source": [
    "1. The population studied, artisan wine, cheese, cured meat and fine grocery US consumers, is a subset the US artisan food & beverage consumer population, which is itself a subset of the specialty food & beverage consumer population, which in turn is a subset of the parent of all the total US food & beverage consumer population, and is growing faster than these parents groups.\n",
    "2. US consumers of artisan wine, cheese, cured meat and fine grocery have common demographics traits, which allow classifying them by revenue, age, sex, racial origin, and maybe category of profession.\n",
    "3. US consumers of artisan wine, cheese, cured meat and fine grocery have common interests (traveling, fooding, natural, authentic and traceable foods & beverages, restaurant frequentation, media consumption, social media following, Google search most frequent hobby search terms, etc.), which allows to classify them by behavioral category.\n",
    "4. US consumers of artisan wine, cheese, cured meat and fine grocery have common expectations (online vs offline shopping, product quality, brand names, country of origin, local vs export, delivery modes, delivery frequency, payment methods, payment frequency, payment one time vs subscription, learning desire, etc.) which allows to classify them by purchasing habits."
   ]
  },
  {
   "cell_type": "markdown",
   "metadata": {},
   "source": [
    "####  5. Gather data to test predictions and execute the analysis phase\n",
    "You do not need to complete the execution aspect of this phase. Simply provide one or two observations on where you expect to source the required data, and execute the planned analysis."
   ]
  },
  {
   "cell_type": "markdown",
   "metadata": {},
   "source": [
    "- Data from US food & beverage industry associations like the Food & Beverage Association of America, the US Specialty Food Association, the American Cheese Society, Specialty Wine Retailers Association, Slow Food USA, US Wine Business Institute, the California Beer and Beverage Distributors, the Grocery Manufacturers Association, the US National Restaurant Association, the American Culinary Federation, the North American Meat Processors Association, Bon Appétech, Food+Tech Connect.\n",
    "- US Census Bureau demographics data.\n",
    "- US Government agencies data like Food & Drug Adinistration (FDA) and US Department of Agriculture(USDA). \n",
    "- Muti-channel survey of at least 5,000 food & beverage consumers\n",
    "- Mobile survey of a panel of representative consumers taken in the 5,000 sample of the multi-channel survey above."
   ]
  },
  {
   "cell_type": "markdown",
   "metadata": {},
   "source": [
    "Once step 5 is complete you will likely have to:\n",
    "\n",
    "####  6. Refine, alter, expand or reject your hypothesis\n",
    "Can you think of additional uses for (or other parties interested in) the data in your hypothetical use case? List them below."
   ]
  },
  {
   "cell_type": "markdown",
   "metadata": {},
   "source": [
    "- Manufacturers, distributors, offline and online (desktop and mobile) retailers and advertisers of wine, cheese, cured meat, wine and gourmet grocery brands in the US.\n",
    "- National and international industry organizations.\n",
    "- Foodtech and food & beverage venture capital industry.\n",
    "- Cross marketing opportunities for restaurants or offline and online (desktop and mobile) travel package agencies."
   ]
  },
  {
   "cell_type": "markdown",
   "metadata": {},
   "source": [
    "After you have completed this phase, you will need to repeat phases four and five of the scientific method. Alternatively, if you do not find a need to refine, alter, expand or reject your hypothesis, you can proceed to the final phase, which is to:\n",
    "\n",
    "####  7. Develop general theories\n",
    "Assuming that your analysis was successful and that you were able to develop a general theory to better understand a specific topic: what changes would you propose in order to benefit from the insights gained?"
   ]
  },
  {
   "cell_type": "markdown",
   "metadata": {},
   "source": [
    "- Sizing of artisan wine, cheese, cured meat and fine grocery market in the US.\n",
    "- New segmentation of the artisan wine, cheese, cured meat and fine grocery consumers in the US.\n",
    "- Gap analysis of the artisan wine, cheese, cured meat and fine grocery market in the US."
   ]
  },
  {
   "cell_type": "markdown",
   "metadata": {},
   "source": [
    "<br>\n",
    "<div class=\"alert alert-info\">\n",
    "<b>Exercise 1 End.</b>\n",
    "</div>\n",
    "\n",
    "> **Exercise complete**:\n",
    "    \n",
    "> This is a good time to \"Save and Checkpoint\"."
   ]
  },
  {
   "cell_type": "markdown",
   "metadata": {
    "collapsed": true
   },
   "source": [
    "\n",
    "# 1. Submit your notebook\n",
    "\n",
    "Please make sure that you:\n",
    "- Perform a final \"Save and Checkpoint\";\n",
    "- Download a copy of the notebook in \".ipynb\" format to your local machine using \"File\", \"Download as\", and \"IPython Notebook (.ipynb)\"; and\n",
    "- Submit a copy of this file to the online campus.\n",
    "\n",
    "> **Note**:\n",
    "\n",
    "> A model answer will not be provided for this notebook."
   ]
  },
  {
   "cell_type": "code",
   "execution_count": null,
   "metadata": {
    "collapsed": true
   },
   "outputs": [],
   "source": []
  }
 ],
 "metadata": {
  "kernelspec": {
   "display_name": "Python 2",
   "language": "python",
   "name": "python2"
  },
  "language_info": {
   "codemirror_mode": {
    "name": "ipython",
    "version": 2
   },
   "file_extension": ".py",
   "mimetype": "text/x-python",
   "name": "python",
   "nbconvert_exporter": "python",
   "pygments_lexer": "ipython2",
   "version": "2.7.12"
  }
 },
 "nbformat": 4,
 "nbformat_minor": 0
}
