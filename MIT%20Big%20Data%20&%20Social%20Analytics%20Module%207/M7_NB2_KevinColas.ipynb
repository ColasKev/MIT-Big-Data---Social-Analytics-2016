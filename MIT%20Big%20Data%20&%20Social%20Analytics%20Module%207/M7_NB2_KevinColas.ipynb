{
 "cells": [
  {
   "cell_type": "markdown",
   "metadata": {},
   "source": [
    "<div align=\"right\">Python 2.7 Jupyter Notebook</div>\n",
    "\n",
    "# Application of Social Analytics\n",
    "<br>\n",
    "<div class=\"alert alert-warning\">\n",
    "<b>This notebook should be opened and completed by students completing both the technical and non-technical tracks of this course.</b>\n",
    "</div>\n",
    "\n",
    "### Your completion of the notebook exercises will be graded based on your ability to:\n",
    "\n",
    "> **Understand**: Does your pseudo-code and/or comments show evidence that you recall and understand technical concepts?\n",
    "\n",
    "> **Evaluate**: Are you able to interpret the results and justify your interpretation based on the observed data?\n",
    "\n",
    "\n",
    "# Introduction\n",
    "In this notebook, you will explore additional case studies and papers that deal with the application of social analytics in practice.\n",
    "\n",
    "The collection of multi-modal and diverse ranges of signals allows us to better understand network modalities and surface patterns that are difficult to observe or extract from noisy or dirty data. Populations, and the patterns they exhibit, are complex by definition, and there is no single one-size-fits-all method to approach the different studies. You would typically start your study with physical sensors, before extending your data set with social and other data to better understand the community or group being studied. In many cases, it is difficult to motivate for large-scale data collection processes to be initiated, but data generated for other purposes can be reused to build and extend analyses. Data from the telecommunications industry is a rich source of insight into human behavior and has been found to be useful in a wide range of topics across multiple fields. This notebook briefly looks at some of these use cases. Using data generated as output of other processes introduces risks (such as changes in the processes that generate the data), but offers the ability to perform analyses that were not previously possible.\n",
    "\n",
    "> **Note**:\n",
    "\n",
    "> The application of many of the concepts in this course is non-trivial and very specific to the use case at hand. You can refer to [this](http://www.pnas.org/content/early/2016/08/22/1602803113.full) article, which describes a theoretical framework, to better understand the fundamental structures of dynamic social networks.\n"
   ]
  },
  {
   "cell_type": "markdown",
   "metadata": {},
   "source": [
    "# 1. Healthcare\n",
    "\n",
    "**Human mobility** offers insights into the spreading of disease as well as the ability to identify potential points of origin of diseases. You can read more about two such studies (one already introduced in the video content) below:\n",
    "\n",
    "- Studying the spread of Malaria in Kenya:\n",
    "    - [Using cell phone data to curb the spread of malaria](https://www.hsph.harvard.edu/news/press-releases/cell-phone-data-malaria/)\n",
    "    - [Quantifying travel behavior for infectious disease research: a comparison of data from surveys and mobile phones](http://www.nature.com/articles/srep05678)\n",
    "\n",
    "- Studying the spread of Ebola in Senegal:\n",
    "    - [Cell-Phone Data Might Help Predict Ebola’s Spread](https://www.technologyreview.com/s/530296/cell-phone-data-might-help-predict-ebolas-spread/)\n",
    "\n",
    "Known data sets can also be used to modify the concept of distance by looking at the number (weight) of people traveling between cities to create an effective distance between locations. This defined value can be used in epidemiological studies to not only predict the spread of contagions, but also to attempt to identify points of origin (based on the same effective distance from all of the locations where the contagion is observed).\n",
    "\n",
    "In the video resource, you were provided with a link to an [interactive tool](http://rocs.hu-berlin.de/interactive/page40/index.html), created by Dirk Brockmann, which displays a view of the world based on effective distances. This tool is based on the [article](http://rocs.hu-berlin.de/complex_sys_2015/resources/Seminarpapers/Hidden_geometry_2013.pdf) titled “The Hidden Geometry of Complex, Network-Driven Contagion Phenomena” (Brockmann and Helbing 2013), and has been included here for students wishing to further explore the concept of effective distance."
   ]
  },
  {
   "cell_type": "markdown",
   "metadata": {},
   "source": [
    "<div class=\"alert alert-info\">\n",
    "<b>Exercise 1 Start.</b>\n",
    "</div>\n",
    "\n",
    "### Instructions\n",
    "It is important to ensure that your dataset is representative of the observations made, and is relevant to the question being analyzed. The “Friends and Family” study uses multi-modal datasets, and you have been supplied with additional examples of data sets utilized in other studies. Physical data, sensor data or survey data can be difficult or expensive to obtain. Although social data may be easier to obtain, it carries inherent risks. Please answer the following two questions on a hypothetical healthcare case using data from social sources as the main input.\n",
    "\n",
    "> a) Are all individuals with high centrality in social networks good candidates for vaccination in a healthcare intervention?\n",
    "\n",
    "> b) What is the most important physical aspect that needs to be accounted for or validated?"
   ]
  },
  {
   "cell_type": "markdown",
   "metadata": {},
   "source": [
    "a) As explained in the video 1, people that are central in social and telecommunication networks are also central in physical networks according to Arek Stopczynski, they are indeed good candidates for vaccination in large scale healthcare interventions to prevent diseases or virus to propagate. Easy-to-obtain networks such as Facebook, Twitter, LinkedIn or Call Detail Records (CDR) can be used to find where the disease comes from, who and where are the central network nodes and how it propagates in order to, ultimately, select who to monitor, vaccinate or contain / quarantine to understand, predict and prevent the spread of diseases. \n",
    "\n",
    "b) Not sure I understand the question well but this is my understanding of the response expected. Sorry in advance if I misunderstood. During the process of data collection and treatment, any change in the process will impact the results, like in the Google Flu Trends, changes in the algorithm of the search engine ended up after a certain period creating an overfitting along with seasonal trends in users search terms. Google did not take into account changes in search behavior over time and changes in their own search engine methodology. Realizing their mistake, the Google GFT team introduced a suggested search feature and new health-based add-ons to facilitate healthcare related topic search for people, but this also was a change in their tracking process, throwing off their results further by making some search terms more prevalent than others. In \"Friends and Family\" the Social fMRI approach employed collect multi-modal and highly diverse range of signals from the subject population network, allowing a better understanding of its properties and interrelations. N. Aharony et al. adopted a user centric, bottom up approach, with a very scientific rigor including the following components: a mobile phone sensing platform to map users activity features, proximity networks, media consumption, and behavior diffusion patterns, phone and web based surveys with daily polls on health and mental status and monthly surveys on self-perception of relationships, group affiliation, interactions, and personality, receipts and credit card statements to study purchasing behavior patterns, Facebook data for social network analysis. And they got the process approved by the Institutional Review Board (IRB) and conducted under strict protocol guidelines. Their main physical concerns here were data privacy and protection to respect regulatory and ethics frameworks and unobtrusively collect the data to avoid disturbance in the subjects' routines. They reached stisfying privacy standards by making sure that the collected data was physically secured and de-identified before being used for aggregate analysis. They made sure of having unobtrusive data collect tools by selecting collect methods planned in advance and rare enough to take part easily of subjects'routines and tools attractive and practical enough to make people want to opt-in the study. Their study had the user experience and interest in mind from the concept to the realization with a very scientific approach including probably risk mitigation, crisis management and a path to refine, alter or reject initial hypothesis if necessary when confronted to an external risk to alter results, unlike Google GFT.\n",
    "\n",
    "In this study, if I take the question another way, as well as in the fitness experiment described in the same article titled purposely Pervasive and Mobile Computing, participants must carry their phones, or the study phone taken as their default or principal phone during the study, on their person the most possible and their reward (phone itself or points and cash in those two cases). But as shown in \"The Parabole of Google Flu\", phones oethr tools used in multi-modal studies are not initially designed to produce valid and reliable data at a scientific level. So regular checks and validations are necessary along the collection process."
   ]
  },
  {
   "cell_type": "markdown",
   "metadata": {},
   "source": [
    "<br>\n",
    "<div class=\"alert alert-info\">\n",
    "<b>Exercise 1 End.</b>\n",
    "</div>\n",
    "\n",
    "> **Exercise complete**:\n",
    "    \n",
    "> This is a good time to \"Save and Checkpoint\"."
   ]
  },
  {
   "cell_type": "markdown",
   "metadata": {},
   "source": [
    "<br>\n",
    "<div class=\"alert alert-info\">\n",
    "<b>Exercise 2 Start.</b>\n",
    "</div>\n",
    "\n",
    "### Instructions\n",
    "\n",
    "> **Review** the [article](http://gking.harvard.edu/files/gking/files/0314policyforumff.pdf) titled “The Parable of Google Flu: Traps in Big Data Analysis”.\n",
    "\n",
    "> a) What was the premise underlying Google Flu Trends (GFT), a program designed by Google for real-time monitoring of flu cases around the world?\n",
    "\n",
    "> b) What went wrong with GFT between 2011 and 2013?\n",
    "\n",
    "> c) Considering that GFT is based on searches of words related to flu, can you describe what this means when using big data to explain reality. (Hint: Keep Professor Pentland’s comments on correlation and prediction from earlier modules in mind.)\n",
    "\n",
    "> d) How can the GFT model be improved?"
   ]
  },
  {
   "cell_type": "markdown",
   "metadata": {},
   "source": [
    "a)  The CFT methodology was to find the best correlations between 50 million search terms with 45 core ones and 1152 data points. The odds of finding structurally unrelated search terms matching the propensity of the flu, or the probability of finding no relations or accept the null hypothesis in a way were high. And GFT developers reported seasonal search terms unrelated to the flu highly correlated to the CDC data but did not question their methodology or underlying premise/hypothesis running the risk that the big data collected through the search engine would overfit the small number of significant cases of correlation, corresponding to relevant medical topics. Big data clashed with small data. The oversight of a medical body or panel having the knowledge of epidemiology research and issues and the common sense to find and influence the research team in removing the irrelevant correlations would have prevented it.\n",
    "\n",
    "b) After identifying the initial issues, in 2009, the GFT team modified the algorithm and introduced a suggested search feature and new health-based add-ons to facilitate healthcare related topic search for people and introduced new modifications in 2011, 2012 and 2013, changing each time the data-generating process. But the new GFT kept on persistently overestimating flu prevalence with an especially large margin miss during the 2011–2012 and 2012-2013 flu season lasting as long as 100 out of 108 weeks starting in August 2011 by more than 50% (from 21 August 2011 to 1 September 2013). Doctors were flooded with visits. And the errors were not randomly distributed since errors in the a week were predicting errors in the next (temporal autocorrelation), and the direction and magnitude of errors varies with the time of the year (seasonality) which shows that GFT overlooked significant information that could have been extracted by traditional statistical methods. The model underperformed CDC lagged projection forward models based on 2 and 3 weeks old data in predicting current flu prevalence. \n",
    "\n",
    "c) GFT misunderstood correlation for causation, considering that high correlations were automatically were automatically at the root cause of the flu evolution or at least part of the equation of causation, when they were completely unrelated and were due to seasonal or media actuality. GFT uses the relative prevalence of search terms in its model, so recommended searches increase the relative magnitude of certain searches, increasing further correlations and worsening the issue and wrong causation. \n",
    "\n",
    "d)  First of all the GFT team should have apply a real scientific methodology articulating a plan from concept to interpretation and action on the results, documenting methodology and potential risks, and planning mitigating actions necessary under risk scenarios in order to allow replication for validation and further study, internal or external to Google. And really ask themselves the right questions at inception and at regular periods during the course of the study:  Is the search engine actually capturing the theoretical construct of interest? Is the measurement stable and comparable across cases and over time? Are measurement errors systematic? \n",
    "\n",
    "Combining models would have improved the results and the accuracy of the prediction. As shown in the article, a “Lagged CDC” model incorporating 52-week seasonality variables with lagged CDC data or a “Google Flu + CDC” model combining GFT, lagged CDC estimates, lagged error of GFT estimates, and 52-week seasonality variables computing error as a percentage as [(Non-CDC estimate)-(CDC estimate)]/(CDC estimate) would both have much less error than GFT alone with a Mean Absolute Error (MAE) during the out-of-sample period of 0.486 for GFT, 0.311 for lagged CDC, and 0.232 for combined GFT and CDC statistically significant at P < 0.05. The combined model “Google Flu + CDC” being the best predictor.\n",
    "\n",
    "Another option would have been to  dynamically recalibrate GFT as commercial (\"blue team dynamics\") or user driven changes in the search engine algorithm occurred like media driven panics or users attempt to manipulate the data generating process to meet their own goals (\"red team dynamics\"). As explained by the authors of “The Parable of Google Flu: Traps in Big Data Analysis”, namely David Lazer, Ryan Kennedy, Gary King, and Alessandro Vespignani, \"Algorithm dynamics are the changes made by engineers to improve the commercial service and by consumers in using that service.\" Documenting those changes for scientific transparency and reproducibility and recalibrate accordingly GFT would have allow the model to fit better.\n"
   ]
  },
  {
   "cell_type": "markdown",
   "metadata": {},
   "source": [
    "<br>\n",
    "<div class=\"alert alert-info\">\n",
    "<b>Exercise 2 End.</b>\n",
    "</div>\n",
    "\n",
    "> **Exercise complete**:\n",
    "    \n",
    "> This is a good time to \"Save and Checkpoint\".\n",
    "\n",
    "<br>\n",
    "<div class=\"alert alert-warning\">\n",
    "<b>Note</b>: Advanced students who wish to gain a better understanding of how clustering models can be used to study the transmission of contagions can refer to [this](http://cktse.eie.polyu.edu.hk/pdf-paper/PhysicaA-0503.pdf) article.\n",
    "</div>"
   ]
  },
  {
   "cell_type": "markdown",
   "metadata": {},
   "source": [
    "# 2. Human resources\n",
    "\n",
    "In his explanation of how big data may be applied in Human Resources (HR), Arek Stopczynski discusses sociometric badges, face-to-face contact, and privacy considerations.\n",
    "\n",
    "Big data studies that have appropriate interventions can play a significant role in ensuring a more effective, productive, and happy workforce. These studies are typically very sensitive to privacy considerations due to the short time frame between observation and potential impact.\n",
    "\n",
    "## 2.1 Privacy\n",
    "In Video 2, Arek also asks whether or not you care (or should care) if a random company knows where you are at any given point in time, (for example, a free application on your cellphone requiring location data) and whether your feelings would change if it was the company you work for that knows where you are. Many applications where you share your data can also be used to gain insights into aspects of your life that you may not be comfortable sharing with your employer. This is because some of these insights can be taken out of context resulting in privacy violations and subsequent loss of trust. Consider [Pokemon Go](https://www.reffind.com/pokemon-go-says-employees/) as an application that can potentially be used to gain insights about you.\n",
    "\n",
    "## 2.2 Trust\n",
    "A recent talk by one of Gartner’s analysts, Frank Buytendijk, stated that trust is an emotion. He said, “It is the confidence people have in your future behavior” (Gartner 2015). He then went on to say that “algorithms allow companies to trust people to the exact level they deserve: dynamically and at scale. Trust goes two ways. People must trust your business too, to connect to you. It is the confidence people have in your future behavior” (Gartner 2015).\n",
    "\n",
    "You can read more about the topic on Page 11 of [this](http://gartnerinfo.com/sym25/rising_to_the_challenge_of_d_290064.pdf) Gartner report.\n",
    "\n",
    "**The five key dynamics to trust are**:\n",
    "* Structure and clarity;\n",
    "* Psychological safety;\n",
    "* Dependability;\n",
    "* Meaning; and\n",
    "* Impact.\n",
    "\n",
    "Those who are interested in exploring additional material on trust can review the following two articles:\n",
    "1. [Out of sight, short of trust](http://www.academia.edu/2887790/Out_of_sight_short_of_trust._Elena_Rocco_Thomas_A._Finholt_and_Erik_C._Hofer_Collaboratory_for_Research_on_Electronic_Work_School_of_Information_University_of_Michigan)\n",
    "2. [Building Trust in High-Performing Teams](http://timreview.ca/sites/default/files/article_PDF/HakanenSoudunsaari_TIMReview_June2012.pdf)\n",
    "\n",
    "Once you are in a trusted relationship with employees, you can start to analyze interesting questions such as “do teams have intelligence?”.\n",
    "\n",
    "This question has been answered by [Anita Woolley et al.](http://science.sciencemag.org/content/330/6004/686.full) (2010), and was covered by Arek Stopczynski in Video 2.\n",
    "\n",
    "Understanding trust and the interactions in networks allow us to make optimal use of available technologies, structures, and teams; and to build more effective and productive virtual teams. Before considering the potential interventions that you can apply in your particular industry, you can review the article “[Getting Virtual Teams Right](https://hbr.org/2014/12/getting-virtual-teams-right)” for more information on this topic."
   ]
  },
  {
   "cell_type": "markdown",
   "metadata": {},
   "source": [
    "# 3. Finance and marketing\n",
    "## 3.1 Individual financial well-being and creditworthiness\n",
    "Traditional use of data in the financial industry focused on age, gender, job type, and marital status. This use was oblivious to spatial temporal data and habits of individuals. In Videos 3 and 4, Xiaowen Dong discusses a number of applications of big data in the financial and marketing industries. Many of the topics are relevant to many organizations as these are core activities in most organizations.\n",
    "\n",
    "> **Note**:\n",
    "\n",
    "> You can read more about financial big data analysis for estimation of systemic risks [here](http://economia.unipv.it/docs/dipeco/quad/ps/RePEc/pav/demwpp/DEMWP0086.pdf).\n",
    "\n",
    "A number of initiatives and companies have found ways of using available data sources to build alternative models for assessing credit worthiness that are not based on credit bureau data. These [initiatives](https://www.whitehouse.gov/sites/default/files/microsites/ostp/2016_0504_data_discrimination.pdf) range from government initiatives to creating products in developing countries (for example, “[promoting financial inclusion](http://blogs.worldbank.org/psd/promoting-financial-inclusion-is-mobile-money-the-magic-bullet)”, “[filling the gaps between financial access and financial inclusion](https://www.devex.com/news/filling-the-gaps-between-financial-access-and-financial-inclusion-88036)”, and “[Big data, small credit](https://www.omidyar.com/sites/default/files/file_archive/insights/Big%20Data,%20Small%20Credit%20Report%202015/BDSC_Digital%20Final_RV.pdf)”) to provide access to communities that did not have access to these services. You can read more about using call data to tap into the low-income customer base through mobile phones [here](https://www.microfinancegateway.org/library/mobile-phone-data-key-promoting-financial-inclusion)."
   ]
  },
  {
   "cell_type": "markdown",
   "metadata": {},
   "source": [
    "<br>\n",
    "<div class=\"alert alert-info\">\n",
    "<b>Exercise 3 Start.</b>\n",
    "</div>\n",
    "\n",
    "### Instructions\n",
    "\n",
    "> **Review** the [article](http://news.mit.edu/2016/using-new-models-big-data-to-better-understand-financial-risk-0411) titled \"Using new models and big data to better understand financial risk\".\n",
    "\n",
    "> a) What fundamental observation regarding financial outcomes allows you to gain insights and build products for individuals based on mobile data? (**Note**: Your answer can be a single statement from the referenced article or you can describe it in your own words based on the content presented in this course.)\n",
    "\n",
    "> b) Traditional credit assessments typically build models across three dimensions of an individual, namely affordability, stability, and willingness (to pay back). How can these three characteristics be defined based on mobile metadata? In your answer, consider what you have learned regarding social network analysis and predictive modeling using Bandicoot features.\n",
    "\n",
    "> c) What other sources of data (excluding credit bureau data) can be considered to improve these alternative creditworthiness assessment models based only on mobile pattern behavior?\n",
    "\n",
    "> d) What major risk(s) can you think of when credit assessment models are built using only mobile metadata? (Refer to the earlier discussion on GFT for hints)"
   ]
  },
  {
   "cell_type": "markdown",
   "metadata": {},
   "source": [
    "a) As defined in Jennifer Donovan of the Institute for Data, Systems, and Society (IDSS), the Adaptive Markets Hypothesis (AMH) consists in using \"principles from evolutionary biology to draw parallels between the observed dynamics of financial systems and those of ecosystems\" to \"move regulators and investors away from viewing markets as physical systems - rational, immutable, efficient, and mechanistic - towards a more complex model: a “highly adaptive organic system” that is directly impacted by human decisions and behavior\" where all the stakeholders respond to each other and make their strategies co-evolve over time.\n",
    "\n",
    "The same way, the work by IDSS faculty member Pr. Pentland and his colleagues uses biological concepts like animal foraging behaviors to find food and resources to embed his research on financial behaviors and decisions of individuals and institutions. And leveraging on a non-traditional set of risk measures, their fundamental observation was that \"financial outcomes for individuals are intricately linked with their patio-temporal traits,” in other terms that the frequency and location of a person’s spending has strong predictive value about their propensity to overspend or miss payments, and consequently affect its credit score. This is an important insight to limit those behaviors, increase oversight on those subjects or build mobile data driven products to help them to do so. But it can also be used by marketers to influence this segment of the population to ultimately increase sales.\n",
    "\n",
    "b) Affordability, stability, and willingness to pay back. Bandicoot analyzes mobile phone metadata including individual (call frequencies, durations, number of interactions and conversations, etc.), spatial (number, entropy and frequent antennas, radius of gyration and churn rate) and capture ego networks of users linked with each other’s by different paths and distances with a set of more than 1400 features and capabilities to auto clean data, split it according to researchers needs and compute a wide variety statistical information. And Bandicoot has physically the advantage of a low memory utilization and battery usage making it unobtrusive for users and able to run in the background of their usual routines. For researchers it allows automated scientific collect, away-storage, hygiene, processing, computing, transmitting and visualizing, producing reproducible and documented results with possibility of backwardation when intermediary steps need to be rerun for research purpose.\n",
    "\n",
    "Affordability: physical, mental or legal power to cover debt considering income vs. expenses or other debts representing the borrower's ability to accommodate additional debt or afford it. The more disposable income a borrower has the less risk there is of defaulting on credit based upon affordability. Zip code information associated with the IP address for example can give information on the borrower's revenue (average cost of living, real estate, rent, presence of commercial establishments, affluent neighborhoods or not). His personal phone log can help to check if his calls are given at or out of usual working times or his location at daily working hours can reveal his employment status (at home or at work) and type of work location data when at work and surrounding professional buildings. In the same purpose verify at what time during the day or week in average or mean his calls are longer than usual, more frequent or initiated outbound would represents slots of free time corresponding to the opposite of possible work schedules. The frequency, regularity, and location of his movement and his eagerness to discover his surroundings are, as Pr. Pentland noted earlier in class videos, correlated with individuals income if I recall. The number of nodes in his ego network, his centrality in higher level networks and his network relationships with potential high or low income other ego networks identified among other ways as above could also give indications of his revenue and social status. Apps usage or payment through apps (e.g. Amazon, utility companies’ apps, banking apps) or digital wallets (e.g. Starbucks, Apple or Google wallets) can indicate status purchases or capacity or tendency of overspending depending on the revenue information gathered. Even the IP address associated with a particular type of phone can give indications on revenue and social status. The frequency of the borrower's presence in shops or groceries and the type of shops and groceries he frequents are additional clues.\n",
    "\n",
    "Stability: borrower’s capability to stand or endure related to length of time employed, type of employment, time at the residence and type of residence. This represents a customer’s risk of flight to skip payments or default. Here a focus on his time and space regularity of the borrower's habit of revenue and consumption agenda though CDR data linked with above mentioned revenue or expense clues. Location of borrower at work schedule hours can give indication on his length or time employed or type of employment. Stability can be assessed by the variance and standard deviation of his aforementioned habits and trends along with his interactions with network peers or on the contrary opposites in terms of revenue and expense patterns or clues. Financially distressed borrowers tend to have sudden changes of habits and trends in revenue and expense, residence location or neighborhood frequentation, working status or type revealed by CDR data. Here also, we can look like in the study mentioned by Xiaowen Dong analyzing credit card history of borrowers at the diversity, loyalty, and regularity of borrowers’ locations in shops and working buildings or neighborhoods/districts to assess their stability or above ability to contract debt or affordability.\n",
    "\n",
    "Willingness: will or power of choosing reflected in the borrower's credit report and through his credit history. The borrower’s credit history shows his willingness to pay and his relations with other creditors current or prospective. I would believe that his relationships with network peers here and the partial credit history clues shown in spatial or temporal space given as mentioned above in CDRs would reveal his willingness to pay. A borrower having relationships with high revenue detected peers and regular stable revenue and expense peers would have more higher probability to be willing to repay and pay on time his debts.= for example then the reverse case. As\n",
    "\n",
    "c) All of the above clues, trends and patterns could help to refine usual credit scoring models as the comparison in the study of the video 4 of this module, presented by Xiaowen Dong, of SMEs credit worthiness, we can apply a similar model to borrowers shopping and working behaviors and the derived structural features from a network perspective, then use these features to train machine learning models to predict the future behavior and credit worthiness of borrowers. As done in the SMEs study, set a target reflecting change in revenue and/or expenses to assess borrowers overall performance in a network where borrowers as vertices are interconnected with weights for number of interactions or size of their ego networks to create an undirected weighted network. Then compute the structural properties of this network like degree, closeness and betweeness centralities and apply community detection algorithms to detect communities and classify borrowers into clusters. Such approach could be and have probably already been adopted for borrowers’ credit worthiness assessment.\n",
    "\n",
    "d) First lacking scientific rigor and a detailed research plan with a well-defined methodology from concept creation to interpretation and action on the results, documented, mapped and including security and privacy standards best practices along with potential risks, and risk mitigating planning to allow validation and replication. And this step should stress the initial questions resulting in the definition of hypothesis and research methodology. Again, the same questions at inception and at regular periods during the course of the study: are the instruments, features and models actually capturing the theoretical construct of interest and reaching the goal expected? Are the measurements stable and comparable across cases and over time and space? Are measurement errors systematic? \n",
    "\n",
    "Second, there is a risk of misunderstanding correlation for causation missing alerting statistical, logic and common sense questions to ask during the span of the study.\n",
    "\n",
    "Third, change in algorithms not documented properly and change of borrowers behaviors unexplained or under stress of potent external factors (financial crisis, debt crisis, political instabilities, or on the contrary financial assets bubbles for example).\n",
    "\n",
    "Fourth, miss the opportunity to use common credit scoring practices and model to experiment combinations of models for review and comparison with basis models."
   ]
  },
  {
   "cell_type": "markdown",
   "metadata": {},
   "source": [
    "<br>\n",
    "<div class=\"alert alert-info\">\n",
    "<b>Exercise 3 End.</b>\n",
    "</div>\n",
    "\n",
    "> **Exercise complete**:\n",
    "    \n",
    "> This is a good time to \"Save and Checkpoint\"."
   ]
  },
  {
   "cell_type": "markdown",
   "metadata": {
    "collapsed": true
   },
   "source": [
    "# 4. Submit your notebook\n",
    "\n",
    "Please make sure that you:\n",
    "- Perform a final \"Save and Checkpoint\";\n",
    "- Download a copy of the notebook in \".ipynb\" format to your local machine using \"File\", \"Download as\", and \"IPython Notebook (.ipynb)\"; and\n",
    "- Submit a copy of this file to the Online Campus."
   ]
  },
  {
   "cell_type": "markdown",
   "metadata": {
    "collapsed": true
   },
   "source": [
    "# 5. References\n",
    "Gartner. 2015. “Gartner Says the Economics of Connections in Digital Business are Accelerating by the Use of Algorithms.” Last modified October 5. http://www.gartner.com/newsroom/id/3142918. "
   ]
  },
  {
   "cell_type": "code",
   "execution_count": null,
   "metadata": {
    "collapsed": true
   },
   "outputs": [],
   "source": []
  }
 ],
 "metadata": {
  "kernelspec": {
   "display_name": "Python 2",
   "language": "python",
   "name": "python2"
  },
  "language_info": {
   "codemirror_mode": {
    "name": "ipython",
    "version": 2
   },
   "file_extension": ".py",
   "mimetype": "text/x-python",
   "name": "python",
   "nbconvert_exporter": "python",
   "pygments_lexer": "ipython2",
   "version": "2.7.12"
  }
 },
 "nbformat": 4,
 "nbformat_minor": 0
}
