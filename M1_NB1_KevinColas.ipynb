{
 "cells": [
  {
   "cell_type": "markdown",
   "metadata": {},
   "source": [
    "<div align=\"right\">Python 2.7 Jupyter Notebook</div>"
   ]
  },
  {
   "cell_type": "markdown",
   "metadata": {},
   "source": [
    "# Introduction to Python"
   ]
  },
  {
   "cell_type": "markdown",
   "metadata": {},
   "source": [
    "### Your completion of the Notebook exercises will be graded based on your ability to:\n",
    "\n",
    "> **Understand**: Does your pseudo-code and/or comments show evidence that you recall and understand technical concepts?\n",
    "\n",
    "> **Apply**: Are you able to execute code, using the supplied examples, that perform the required functionality on supplied or generated data sets? "
   ]
  },
  {
   "cell_type": "markdown",
   "metadata": {},
   "source": [
    "# Notebook introduction\n",
    "\n",
    "In the Orientation Module, you were given a number of links that provided Python and additional library documentation and tutorials. This section will serve as a summarized version of useful commands to get non-technical users started, and equip them with the basics required to complete this course.\n",
    "\n",
    "This course is not intended to be a Python training course, but rather to showcase how Python can be utilized in analysis projects, and more specifically in analyzing social data. You will be provided with links that you can explore in your personal time to further your expertise and you are welcome to offer additional suggestions to your peers in the online forums.\n",
    "\n",
    "You should execute the cells with sample code and write your own code in the indicated cells in this notebook. When complete, ensure that you save and checkpoint the notebook, download a copy to your local workstation and submit a copy to the Online Campus.\n",
    "\n",
    "You can also visit [Python Language Reference](https://docs.python.org/2/reference/index.html) for a more complete reference manual that describes the syntax and \"core semantics\" of the language.\n",
    "\n",
    "> **Note to new Python users**: \n",
    "\n",
    "> This notebook will introduce a significant amount of new content. You do not need to be able to master all components, but we urge you to work through the examples below and attempt to follow the logic. In the first notebook of this section we will introduce you to Python syntax. The second notebook will start to introduce various components of data analysis basics, and the third will guide you through a basic example from beginning to end. The focus will shift from programming to subject related examples in subsequent modules. \n"
   ]
  },
  {
   "cell_type": "markdown",
   "metadata": {},
   "source": [
    "> **Note**: \n",
    "\n",
    "> We strongly recommend that you save a checkpoint after applying significant changes or completing exercises. This allows you to return the notebook to a previous state should you wish to do so. On the Jupyter menu, select \"File\", then \"Save and Checkpoint\" from the dropdown menu that appears."
   ]
  },
  {
   "cell_type": "markdown",
   "metadata": {},
   "source": [
    "# 1. Python Basics\n",
    "Execute the cells below and follow the instructions in the comments where applicable."
   ]
  },
  {
   "cell_type": "code",
   "execution_count": 1,
   "metadata": {
    "collapsed": false
   },
   "outputs": [
    {
     "name": "stdout",
     "output_type": "stream",
     "text": [
      "hello world!\n"
     ]
    }
   ],
   "source": [
    "# We introduced the the first line of code in any new language\n",
    "print \"hello world!\""
   ]
  },
  {
   "cell_type": "code",
   "execution_count": 2,
   "metadata": {
    "collapsed": false
   },
   "outputs": [
    {
     "name": "stdout",
     "output_type": "stream",
     "text": [
      "1\n"
     ]
    }
   ],
   "source": [
    "# Setting a variable\n",
    "var = 1\n",
    "print var"
   ]
  },
  {
   "cell_type": "code",
   "execution_count": 6,
   "metadata": {
    "collapsed": false
   },
   "outputs": [
    {
     "name": "stdout",
     "output_type": "stream",
     "text": [
      "Enter your name: Kevin Colas\n",
      "Hello Kevin Colas\n"
     ]
    }
   ],
   "source": [
    "# Set your name as a variable and say hello to yourself\n",
    "# Type your name in the input block that appears and press Enter to continue\n",
    "yourname = raw_input('Enter your name: ')\n",
    "print 'Hello', yourname"
   ]
  },
  {
   "cell_type": "markdown",
   "metadata": {},
   "source": [
    "# Exercise 1\n",
    "Say hello to yourself 5 times. You can set your name as a variable, or use the input function demonstrated above."
   ]
  },
  {
   "cell_type": "code",
   "execution_count": 14,
   "metadata": {
    "collapsed": false
   },
   "outputs": [
    {
     "name": "stdout",
     "output_type": "stream",
     "text": [
      "Enter your name: Kevin Colas\n",
      "Hello Kevin Colas !\n",
      "hello Kevin Colas !\n",
      "Hello Kevin Colas !\n"
     ]
    }
   ],
   "source": [
    "# Your code here\n",
    "yourname = raw_input('Enter your name: ')\n",
    "print 'Hello', yourname,'!'\n",
    "# Variant 1\n",
    "print \"hello Kevin Colas !\"\n",
    "# Variant 2\n",
    "yourname = 'Kevin Colas !'\n",
    "print 'Hello', yourname\n",
    "\n",
    "\n",
    "\n",
    "\n",
    "\n",
    "\n",
    "\n",
    "\n"
   ]
  },
  {
   "cell_type": "markdown",
   "metadata": {},
   "source": [
    "> **Exercise complete**:\n",
    "    \n",
    "> This is a good time to \"Save and Checkpoint\"."
   ]
  },
  {
   "cell_type": "markdown",
   "metadata": {},
   "source": [
    "# 2. Data Types and Operators"
   ]
  },
  {
   "cell_type": "markdown",
   "metadata": {},
   "source": [
    "Working with multiple data types and being aware of what they are is often overlooked in analysis. You will typically use int (integers) and float (floating-point) numeric types, str (characters or string) and bool (true-false values). Each of these data types have common operators that can be applied to them.\n",
    "\n",
    "| Data Type  | Typical Operators |\n",
    "| ------------- | ------------- |\n",
    "| int  | + - * // % **  |\n",
    "| float  | + - * / % **  |\n",
    "| bool  | and or not  |\n",
    "| str  | +  |\n",
    "\n"
   ]
  },
  {
   "cell_type": "markdown",
   "metadata": {},
   "source": [
    "## 2.1 Type\n",
    "\n",
    "When working with new data sources or performing ad-hoc analysis, the \"type\" function can be employed to provide more information on the input or output objects. Execute the cells below to see how this function can assist you."
   ]
  },
  {
   "cell_type": "code",
   "execution_count": 15,
   "metadata": {
    "collapsed": false,
    "scrolled": true
   },
   "outputs": [
    {
     "data": {
      "text/plain": [
       "int"
      ]
     },
     "execution_count": 15,
     "metadata": {},
     "output_type": "execute_result"
    }
   ],
   "source": [
    "a = 1\n",
    "type(a)"
   ]
  },
  {
   "cell_type": "code",
   "execution_count": 16,
   "metadata": {
    "collapsed": false
   },
   "outputs": [
    {
     "data": {
      "text/plain": [
       "str"
      ]
     },
     "execution_count": 16,
     "metadata": {},
     "output_type": "execute_result"
    }
   ],
   "source": [
    "b = '1'\n",
    "type(b)"
   ]
  },
  {
   "cell_type": "code",
   "execution_count": 17,
   "metadata": {
    "collapsed": false
   },
   "outputs": [
    {
     "data": {
      "text/plain": [
       "str"
      ]
     },
     "execution_count": 17,
     "metadata": {},
     "output_type": "execute_result"
    }
   ],
   "source": [
    "c = 'one'\n",
    "type(c)"
   ]
  },
  {
   "cell_type": "code",
   "execution_count": 18,
   "metadata": {
    "collapsed": false
   },
   "outputs": [
    {
     "data": {
      "text/plain": [
       "float"
      ]
     },
     "execution_count": 18,
     "metadata": {},
     "output_type": "execute_result"
    }
   ],
   "source": [
    "d = 1.125\n",
    "type(d)"
   ]
  },
  {
   "cell_type": "code",
   "execution_count": 19,
   "metadata": {
    "collapsed": false
   },
   "outputs": [
    {
     "data": {
      "text/plain": [
       "bool"
      ]
     },
     "execution_count": 19,
     "metadata": {},
     "output_type": "execute_result"
    }
   ],
   "source": [
    "e = True\n",
    "type(e)"
   ]
  },
  {
   "cell_type": "markdown",
   "metadata": {},
   "source": [
    "## 2.2 Numbers\n",
    "Before continuing, it’s a good time to view the list of all currently defined variables to ensure that you do not reuse existing variables that you may require at a later stage. Retrieving the list of currently defined variables can be achieved with the function \"who\"."
   ]
  },
  {
   "cell_type": "code",
   "execution_count": 20,
   "metadata": {
    "collapsed": false
   },
   "outputs": [
    {
     "name": "stdout",
     "output_type": "stream",
     "text": [
      "a\t b\t c\t d\t e\t var\t yourname\t \n"
     ]
    }
   ],
   "source": [
    "who"
   ]
  },
  {
   "cell_type": "code",
   "execution_count": 21,
   "metadata": {
    "collapsed": false
   },
   "outputs": [
    {
     "name": "stdout",
     "output_type": "stream",
     "text": [
      "f =  5 and the type of f is: <type 'int'>\n",
      "g =  2 and the type of g is: <type 'int'>\n",
      "h =  2.1 and the type of h is: <type 'float'>\n",
      "\n",
      "\n",
      "Integer division: \n",
      "The result of integer, f = 5, divided by integer, g = 2, is of type  <type 'int'>  and has a value of  2\n",
      "\n",
      "\n",
      "Float division:\n",
      "We can cast the integer to float to produce the result of type float for the same calculation.\n",
      "The result is of type  <type 'float'>  and has a value of  2.5\n",
      "\n",
      "\n",
      "Integer divided by float: \n",
      "The result is of type  <type 'float'>  and has a value of  2.38095238095\n"
     ]
    }
   ],
   "source": [
    "# Integers and floats\n",
    "f = 5\n",
    "g = 2\n",
    "h = 2.1\n",
    "\n",
    "k = f/g\n",
    "# cast 'f' to float and perform the same calculation\n",
    "l = float(f)/g\n",
    "m = f/h\n",
    "\n",
    "print 'f = ', f, 'and the type of f is:',type(f)\n",
    "print 'g = ', g, 'and the type of g is:',type(g)\n",
    "print 'h = ', h, 'and the type of h is:',type(h)\n",
    "print '\\n'\n",
    "print 'Integer division: \\nThe result of integer, f = 5, divided by integer, g = 2, is of type ', type(k), ' and has a value of ', k\n",
    "print '\\n'\n",
    "print 'Float division:\\nWe can cast the integer to float to produce the result of type float for the same calculation.'\n",
    "print 'The result is of type ', type(l), ' and has a value of ', l\n",
    "print '\\n'\n",
    "print 'Integer divided by float: \\nThe result is of type ', type(m), ' and has a value of ', m"
   ]
  },
  {
   "cell_type": "markdown",
   "metadata": {},
   "source": [
    "Python can also perform calculations with [Complex Numbers](https://docs.python.org/2/library/cmath.html)."
   ]
  },
  {
   "cell_type": "code",
   "execution_count": 22,
   "metadata": {
    "collapsed": false
   },
   "outputs": [
    {
     "name": "stdout",
     "output_type": "stream",
     "text": [
      "Calculations with complex numbers: Result is of type  <type 'complex'>  and has a value of  (5.5+2j)\n"
     ]
    }
   ],
   "source": [
    "# Complex numbers\n",
    "r = 1.5 + 2j  # complex number.\n",
    "s = 4         # int\n",
    "t = r + s     # complex + int\n",
    "print 'Calculations with complex numbers: Result is of type ', type(t), ' and has a value of ', t"
   ]
  },
  {
   "cell_type": "markdown",
   "metadata": {},
   "source": [
    "> **Note **:\n",
    "\n",
    "> You may have to use different libraries for different data types, for example the \"math\" library can be used to calculate the sine of float data types, while you will require \"cmath\" to calculate the sine of complex numbers.\n",
    "\n",
    "A great place to continue your journey outside the course is on the [Scipy.org website](https://www.scipy.org/), which contains links to [Pandas](http://pandas.pydata.org/), [Matplotlib](http://matplotlib.org/), [Numpy](http://www.numpy.org/) and [Scipy](http://docs.scipy.org/doc/) documentation."
   ]
  },
  {
   "cell_type": "markdown",
   "metadata": {},
   "source": [
    "## 2.3 Strings\n",
    "The value of a string data type is a sequence of characters. Strings are typically used for text processing.\n",
    "You can perform concatenation and a number of other functions on strings."
   ]
  },
  {
   "cell_type": "code",
   "execution_count": 23,
   "metadata": {
    "collapsed": false
   },
   "outputs": [
    {
     "name": "stdout",
     "output_type": "stream",
     "text": [
      "Hello World!\n",
      "Hello World!\n",
      "The length of z is 12\n",
      "HelloHelloHello World\n"
     ]
    }
   ],
   "source": [
    "# String example\n",
    "x = 'Hello'\n",
    "y = 'World'\n",
    "\n",
    "# String concatenation\n",
    "z = x + ' ' + y + '!'\n",
    "print z\n",
    "\n",
    "# String concatenation utilizing formatting options\n",
    "z = '{} {}!'.format(x, y)\n",
    "print z\n",
    "\n",
    "# String information\n",
    "print 'The length of z is', len(z)\n",
    "\n",
    "# String repetition and concatenation\n",
    "print 3*x+' '+y"
   ]
  },
  {
   "cell_type": "markdown",
   "metadata": {},
   "source": [
    "## 2.4 Lists and tuples\n",
    "\n",
    "Variables store information that may change over time. When you need to store longer lists of information, there are additional options available. You will be introduced to lists and tuples as basic elements and can read more about native Python data structures in the [Python documentation](https://docs.python.org/2/tutorial/datastructures.html#). During this course you will be exposed to examples using the [Pandas](http://pandas.pydata.org/) and [Numpy](http://www.numpy.org/) libraries that offer additional options for data analysis and manipulation. \n",
    "\n",
    "### 2.4.1 [Lists](https://docs.python.org/2/tutorial/datastructures.html#more-on-lists)\n",
    "Lists are changeable or mutable sequences of values. Lists are stored within square brackets and items within a list are separated by commas. Lists can also be modified, appended, and sorted amongst other methods."
   ]
  },
  {
   "cell_type": "markdown",
   "metadata": {},
   "source": [
    "#### Create and print a list"
   ]
  },
  {
   "cell_type": "code",
   "execution_count": 24,
   "metadata": {
    "collapsed": false,
    "scrolled": true
   },
   "outputs": [
    {
     "name": "stdout",
     "output_type": "stream",
     "text": [
      "['this', 'is', 'a', 'list']\n",
      "The list contains 4 elements.\n"
     ]
    }
   ],
   "source": [
    "# lists\n",
    "lst = ['this', 'is', 'a', 'list']\n",
    "print lst\n",
    "\n",
    "# print the number of elements in the list\n",
    "print 'The list contains', len(lst), 'elements.'"
   ]
  },
  {
   "cell_type": "markdown",
   "metadata": {},
   "source": [
    "#### Selecting an element in a list\n",
    "Remember that Python's index starts at zero. You can use a negative index to select the last element in the list."
   ]
  },
  {
   "cell_type": "code",
   "execution_count": 27,
   "metadata": {
    "collapsed": false
   },
   "outputs": [
    {
     "name": "stdout",
     "output_type": "stream",
     "text": [
      "this\n",
      "is\n",
      "a\n",
      "list\n"
     ]
    }
   ],
   "source": [
    "# print the first element in the list\n",
    "print lst[0]\n",
    "\n",
    "# print the third element in the list\n",
    "print lst[1]\n",
    "\n",
    "# print the third element in the list\n",
    "print lst[2]\n",
    "\n",
    "# print the last element in the list\n",
    "print lst[-1]"
   ]
  },
  {
   "cell_type": "markdown",
   "metadata": {},
   "source": [
    "#### Append to a list"
   ]
  },
  {
   "cell_type": "code",
   "execution_count": 28,
   "metadata": {
    "collapsed": false
   },
   "outputs": [
    {
     "name": "stdout",
     "output_type": "stream",
     "text": [
      "['this', 'is', 'a', 'list']\n",
      "['this', 'is', 'a', 'list', 'with', 'appended', 'elements', 'and', 'show', 'the', 'list', 'content']\n",
      "The list updates list contains 12 elements.\n"
     ]
    }
   ],
   "source": [
    "# appending a list\n",
    "print lst\n",
    "lst.append('with')\n",
    "lst.append('appended')\n",
    "lst.append('elements')\n",
    "lst.append('and')\n",
    "lst.append('show')\n",
    "lst.append('the')\n",
    "lst.append('list')\n",
    "lst.append('content')\n",
    "print lst\n",
    "\n",
    "# print the number of elements in the list\n",
    "print 'The list updates list contains', len(lst), 'elements.'"
   ]
  },
  {
   "cell_type": "markdown",
   "metadata": {},
   "source": [
    "> **Note**:\n",
    "\n",
    "> When selecting and executing the cell again, you will continue to add values to the list.\n",
    "\n",
    "> Try this now: Select the cell above again and execute it to see how the input and output content changes.\n",
    "\n",
    "> This can come in handy when working with loops."
   ]
  },
  {
   "cell_type": "markdown",
   "metadata": {},
   "source": [
    "**Changing a list**\n",
    "\n",
    "We will not cover string methods in detail. You can read more about [string methods](https://docs.python.org/2/library/stdtypes.html?highlight=upper#sequence-types-str-unicode-list-tuple-bytearray-buffer-xrange) if you are interested."
   ]
  },
  {
   "cell_type": "code",
   "execution_count": 29,
   "metadata": {
    "collapsed": false
   },
   "outputs": [
    {
     "name": "stdout",
     "output_type": "stream",
     "text": [
      "['THIS', 'is', 'a', 'LIST', 'with', 'appended', 'elements', 'and', 'show', 'the', 'list', 'content']\n"
     ]
    }
   ],
   "source": [
    "# Changing a list\n",
    "# Note: Remember that Python starts with index 0\n",
    "lst[0] = 'THIS'\n",
    "lst[3] = lst[3].upper()\n",
    "print lst"
   ]
  },
  {
   "cell_type": "markdown",
   "metadata": {},
   "source": [
    "#### Define a list of numbers"
   ]
  },
  {
   "cell_type": "code",
   "execution_count": 30,
   "metadata": {
    "collapsed": false
   },
   "outputs": [
    {
     "name": "stdout",
     "output_type": "stream",
     "text": [
      "[0, 10, 2, 7, 8, 5, 6, 3, 4, 1, 9]\n"
     ]
    }
   ],
   "source": [
    "# define a list of numbers\n",
    "numlist = [0, 10, 2, 7, 8, 5, 6, 3, 4, 1, 9]\n",
    "print numlist"
   ]
  },
  {
   "cell_type": "markdown",
   "metadata": {},
   "source": [
    "#### Sort and filter a list"
   ]
  },
  {
   "cell_type": "code",
   "execution_count": 31,
   "metadata": {
    "collapsed": false
   },
   "outputs": [
    {
     "name": "stdout",
     "output_type": "stream",
     "text": [
      "[5, 6, 7, 8, 9, 10]\n"
     ]
    }
   ],
   "source": [
    "# sort and filter list\n",
    "sorted_numlist = sorted(i for i in numlist if i >= 5)\n",
    "print sorted_numlist"
   ]
  },
  {
   "cell_type": "markdown",
   "metadata": {},
   "source": [
    "#### Remove the last element from a list"
   ]
  },
  {
   "cell_type": "code",
   "execution_count": 32,
   "metadata": {
    "collapsed": false
   },
   "outputs": [
    {
     "name": "stdout",
     "output_type": "stream",
     "text": [
      "[5, 6, 7, 8, 9]\n"
     ]
    }
   ],
   "source": [
    "# Remove the last element from the list\n",
    "list.pop(sorted_numlist)\n",
    "print sorted_numlist"
   ]
  },
  {
   "cell_type": "markdown",
   "metadata": {},
   "source": [
    "### 2.4.2 [Tuples](https://docs.python.org/2.7/tutorial/datastructures.html?highlight=tuples#tuples-and-sequences)\n",
    "Tuples are similar to lists, except that they are typed in parentheses and are immutable. Tuples therefore cannot have their values modified."
   ]
  },
  {
   "cell_type": "code",
   "execution_count": 33,
   "metadata": {
    "collapsed": false
   },
   "outputs": [
    {
     "name": "stdout",
     "output_type": "stream",
     "text": [
      "('this', 'is', 'a', 'bigger', 'tuple')\n"
     ]
    }
   ],
   "source": [
    "tup = ('this', 'is', 'a', 'bigger', 'tuple')\n",
    "print(tup)"
   ]
  },
  {
   "cell_type": "code",
   "execution_count": 34,
   "metadata": {
    "collapsed": false
   },
   "outputs": [
    {
     "data": {
      "text/plain": [
       "'bigger'"
      ]
     },
     "execution_count": 34,
     "metadata": {},
     "output_type": "execute_result"
    }
   ],
   "source": [
    "tup[3]"
   ]
  },
  {
   "cell_type": "code",
   "execution_count": 35,
   "metadata": {
    "collapsed": false
   },
   "outputs": [
    {
     "ename": "TypeError",
     "evalue": "'tuple' object does not support item assignment",
     "output_type": "error",
     "traceback": [
      "\u001b[1;31m---------------------------------------------------------------------------\u001b[0m",
      "\u001b[1;31mTypeError\u001b[0m                                 Traceback (most recent call last)",
      "\u001b[1;32m<ipython-input-35-4cbe39dbb153>\u001b[0m in \u001b[0;36m<module>\u001b[1;34m()\u001b[0m\n\u001b[0;32m      1\u001b[0m \u001b[1;31m# tuples cannot be changed and will fail with an error if you try to change an element\u001b[0m\u001b[1;33m\u001b[0m\u001b[1;33m\u001b[0m\u001b[0m\n\u001b[1;32m----> 2\u001b[1;33m \u001b[0mtup\u001b[0m\u001b[1;33m[\u001b[0m\u001b[1;36m3\u001b[0m\u001b[1;33m]\u001b[0m \u001b[1;33m=\u001b[0m \u001b[1;34m'new'\u001b[0m\u001b[1;33m\u001b[0m\u001b[0m\n\u001b[0m",
      "\u001b[1;31mTypeError\u001b[0m: 'tuple' object does not support item assignment"
     ]
    }
   ],
   "source": [
    "# tuples cannot be changed and will fail with an error if you try to change an element\n",
    "tup[3] = 'new'"
   ]
  },
  {
   "cell_type": "markdown",
   "metadata": {},
   "source": [
    "## 2.5 Boolean operators\n",
    "A boolean (logical) expression evaluates to true or false. Python provides the boolean type that can either be set to true or false. Many functions and operations return boolean objects. You have been introduced to some of the basic operators in earlier examples. A brief overview of boolean operators is provided here, as they can be very useful when comparing different elements."
   ]
  },
  {
   "cell_type": "code",
   "execution_count": 36,
   "metadata": {
    "collapsed": false
   },
   "outputs": [
    {
     "data": {
      "text/plain": [
       "False"
      ]
     },
     "execution_count": 36,
     "metadata": {},
     "output_type": "execute_result"
    }
   ],
   "source": [
    "# equal to\n",
    "x = 'Left'\n",
    "y = 'Right'\n",
    "x == y"
   ]
  },
  {
   "cell_type": "code",
   "execution_count": 37,
   "metadata": {
    "collapsed": false
   },
   "outputs": [
    {
     "data": {
      "text/plain": [
       "True"
      ]
     },
     "execution_count": 37,
     "metadata": {},
     "output_type": "execute_result"
    }
   ],
   "source": [
    "# not equal to\n",
    "x = 'Left'\n",
    "y = 'Right'\n",
    "x != y"
   ]
  },
  {
   "cell_type": "code",
   "execution_count": 38,
   "metadata": {
    "collapsed": false
   },
   "outputs": [
    {
     "data": {
      "text/plain": [
       "True"
      ]
     },
     "execution_count": 38,
     "metadata": {},
     "output_type": "execute_result"
    }
   ],
   "source": [
    "# less than\n",
    "x = 3\n",
    "y = 4\n",
    "x < y"
   ]
  },
  {
   "cell_type": "code",
   "execution_count": 39,
   "metadata": {
    "collapsed": false
   },
   "outputs": [
    {
     "data": {
      "text/plain": [
       "False"
      ]
     },
     "execution_count": 39,
     "metadata": {},
     "output_type": "execute_result"
    }
   ],
   "source": [
    "# greater than or equal to\n",
    "x >= y"
   ]
  },
  {
   "cell_type": "markdown",
   "metadata": {},
   "source": [
    "# 3. Loops, sequences and conditionals\n",
    "Conditions and loops can be utilized to repeat statements based on the conditions or loops specified. This can be employed to cycle through data sets or perform a sequence of steps on, or based on, input variables."
   ]
  },
  {
   "cell_type": "markdown",
   "metadata": {},
   "source": [
    "## 3.1 [Range](https://docs.python.org/2/library/functions.html#range)\n",
    "Range(start, stop, step) is used to create lists containing arithmetic progressiongs. If you call a list with only one argument specified, it will use the value as stop value and default to zero as start value. The step argument is optional and can be a positive or negative integer."
   ]
  },
  {
   "cell_type": "code",
   "execution_count": 40,
   "metadata": {
    "collapsed": false
   },
   "outputs": [
    {
     "data": {
      "text/plain": [
       "[0, 1, 2, 3, 4, 5, 6, 7, 8, 9]"
      ]
     },
     "execution_count": 40,
     "metadata": {},
     "output_type": "execute_result"
    }
   ],
   "source": [
    "# Generate a list of 10 values.\n",
    "myrange = range(10)\n",
    "myrange"
   ]
  },
  {
   "cell_type": "code",
   "execution_count": 41,
   "metadata": {
    "collapsed": false
   },
   "outputs": [
    {
     "data": {
      "text/plain": [
       "[1, 4, 7]"
      ]
     },
     "execution_count": 41,
     "metadata": {},
     "output_type": "execute_result"
    }
   ],
   "source": [
    "# Generate a list with start value equal to one, stop value equal to ten that increments by three.\n",
    "myrange2 = range(1, 10, 3)\n",
    "myrange2"
   ]
  },
  {
   "cell_type": "code",
   "execution_count": 42,
   "metadata": {
    "collapsed": false
   },
   "outputs": [
    {
     "data": {
      "text/plain": [
       "[0, -1, -2, -3, -4, -5, -6, -7, -8, -9]"
      ]
     },
     "execution_count": 42,
     "metadata": {},
     "output_type": "execute_result"
    }
   ],
   "source": [
    "# Generate a negative list\n",
    "myrange3 = range(0, -10, -1)\n",
    "myrange3"
   ]
  },
  {
   "cell_type": "markdown",
   "metadata": {},
   "source": [
    "## 3.2 Basic loops\n",
    "Python uses indentation to repeat items. The example below demonstrates:\n",
    "- Cycling through the generated list.\n",
    " - Printing the current element in the list.\n",
    " - Printing X's, repeated per element.\n",
    "- Exiting the loop and printing a line that is not repeated."
   ]
  },
  {
   "cell_type": "code",
   "execution_count": 43,
   "metadata": {
    "collapsed": false
   },
   "outputs": [
    {
     "name": "stdout",
     "output_type": "stream",
     "text": [
      "0\n",
      "\n",
      "1\n",
      "X\n",
      "2\n",
      "XX\n",
      "3\n",
      "XXX\n",
      "4\n",
      "XXXX\n",
      "5\n",
      "XXXXX\n",
      "6\n",
      "XXXXXX\n",
      "7\n",
      "XXXXXXX\n",
      "8\n",
      "XXXXXXXX\n",
      "9\n",
      "XXXXXXXXX\n",
      "End of loop (not included in the loop)\n"
     ]
    }
   ],
   "source": [
    "# You can specify the list manually or use a variable containg the list as input\n",
    "# The syntax for manual input is: `for item in [1, 2, 3]:`\n",
    "\n",
    "for item in myrange:\n",
    "    print item\n",
    "    print item * 'X'\n",
    "print 'End of loop (not included in the loop)'"
   ]
  },
  {
   "cell_type": "markdown",
   "metadata": {},
   "source": [
    "## 3.3 Conditionals\n",
    "Conditionals are used to determine which statements are executed. In the example below we import the \"random\" library and generate a random number smaller than 2. We assume 0 means heads and 1 means tails. The conditional statement is then used to print the result of the coin flip as well as \"Heads\" or \"Tails\"."
   ]
  },
  {
   "cell_type": "code",
   "execution_count": 44,
   "metadata": {
    "collapsed": false
   },
   "outputs": [
    {
     "name": "stdout",
     "output_type": "stream",
     "text": [
      "1\n",
      "Tails\n"
     ]
    }
   ],
   "source": [
    "# Flip a coin\n",
    "\n",
    "import random\n",
    "coin_result = random.randrange(0,2)\n",
    "\n",
    "print coin_result\n",
    "\n",
    "if coin_result == 0:\n",
    "    print 'Heads'\n",
    "else:\n",
    "    print 'Tails'"
   ]
  },
  {
   "cell_type": "markdown",
   "metadata": {},
   "source": [
    "# 4. Functions\n",
    "Functions allow us to avoid duplicating code. When defining a function, the def statement is used. The desired function code is then placed into the body of the statement. A function usually takes in an argument and returns a value as determined by the code in the body of the function. Whenever referring to the function outside of the function body itself, this action is known as a function call."
   ]
  },
  {
   "cell_type": "code",
   "execution_count": 45,
   "metadata": {
    "collapsed": false
   },
   "outputs": [
    {
     "name": "stdout",
     "output_type": "stream",
     "text": [
      "36\n"
     ]
    }
   ],
   "source": [
    "# function 'firstfunction' with argument 'x'\n",
    "def firstfunction(x):\n",
    "    y = x * 6\n",
    "    return y\n",
    "\n",
    "# call your function    \n",
    "z = firstfunction(6)\n",
    "print(z)"
   ]
  },
  {
   "cell_type": "markdown",
   "metadata": {},
   "source": [
    "Function definitions, loops and conditionals can be combined to produce something useful. In the example below we will simulate a variable number of coin flips and then produce the summary of results as output."
   ]
  },
  {
   "cell_type": "code",
   "execution_count": 57,
   "metadata": {
    "collapsed": false
   },
   "outputs": [
    {
     "data": {
      "text/plain": [
       "[54, 46]"
      ]
     },
     "execution_count": 57,
     "metadata": {},
     "output_type": "execute_result"
    }
   ],
   "source": [
    "# function 'coinflip' with argument 'x' for the number of repetitions that returns the number of 'tail' occurrences\n",
    "def coinflip(x):\n",
    "    # set all starting variables to 0\n",
    "    heads = 0\n",
    "    tails = 0\n",
    "    flip = 0\n",
    "    # start a loop that executes statements while the conditional specified results in 'True'\n",
    "    while flip < x:\n",
    "        # generate a random number smaller than 2\n",
    "        flipx = random.randrange(0,2)\n",
    "        # increment heads by 1 if the generated number is 0\n",
    "        if flipx == 0:\n",
    "            heads = heads + 1\n",
    "        # increment tails by 1 if the generated number is larger than 0\n",
    "        if flipx > 0:\n",
    "            tails = tails + 1\n",
    "        # increment the flip variable by 1\n",
    "        flip += 1\n",
    "    return [heads, tails]\n",
    "\n",
    "# set the number of repetitions\n",
    "rep = 100\n",
    "\n",
    "# call the function and set the output to the variable 'tails'\n",
    "coinflip_results = coinflip(rep)\n",
    "\n",
    "# print results of the function\n",
    "coinflip_results"
   ]
  },
  {
   "cell_type": "markdown",
   "metadata": {},
   "source": [
    "# Exercise 2: Rolling Dice\n",
    "\n",
    "Use the coinflip example above and change it to simulate rolling dice. Your output should contain summary statistics for the number of times you rolled the dice and occurrences of each of the 6 sides.\n",
    "\n",
    "> **Hints**:\n",
    "\n",
    "> - Replace \"Heads\" and \"Tails\" with \"Side_1\" to \"Side_6\".\n",
    "> - Increase the maximum of the random number generated.\n",
    "> - Test for additional states of the random variable, and increase the counter for the relevant variable.\n",
    "> - Add additional output variables."
   ]
  },
  {
   "cell_type": "code",
   "execution_count": 1,
   "metadata": {
    "collapsed": false
   },
   "outputs": [
    {
     "ename": "NameError",
     "evalue": "name 'roll' is not defined",
     "output_type": "error",
     "traceback": [
      "\u001b[1;31m---------------------------------------------------------------------------\u001b[0m",
      "\u001b[1;31mNameError\u001b[0m                                 Traceback (most recent call last)",
      "\u001b[1;32m<ipython-input-1-b2abd116919e>\u001b[0m in \u001b[0;36m<module>\u001b[1;34m()\u001b[0m\n\u001b[0;32m      7\u001b[0m     \u001b[0mSide_6\u001b[0m \u001b[1;33m=\u001b[0m \u001b[1;36m0\u001b[0m\u001b[1;33m\u001b[0m\u001b[0m\n\u001b[0;32m      8\u001b[0m     \u001b[0mroll\u001b[0m \u001b[1;33m=\u001b[0m \u001b[1;36m0\u001b[0m\u001b[1;33m\u001b[0m\u001b[0m\n\u001b[1;32m----> 9\u001b[1;33m \u001b[1;32mwhile\u001b[0m \u001b[0mroll\u001b[0m \u001b[1;33m<\u001b[0m \u001b[0mx\u001b[0m\u001b[1;33m:\u001b[0m\u001b[1;33m\u001b[0m\u001b[0m\n\u001b[0m\u001b[0;32m     10\u001b[0m     \u001b[0mrollx\u001b[0m \u001b[1;33m=\u001b[0m \u001b[0mrandom\u001b[0m\u001b[1;33m.\u001b[0m\u001b[0mrandrange\u001b[0m\u001b[1;33m(\u001b[0m\u001b[1;36m0\u001b[0m\u001b[1;33m,\u001b[0m\u001b[1;36m6\u001b[0m\u001b[1;33m)\u001b[0m\u001b[1;33m\u001b[0m\u001b[0m\n\u001b[0;32m     11\u001b[0m     \u001b[1;32mif\u001b[0m \u001b[0mrollx\u001b[0m \u001b[1;33m==\u001b[0m \u001b[1;36m0\u001b[0m\u001b[1;33m:\u001b[0m\u001b[1;33m\u001b[0m\u001b[0m\n",
      "\u001b[1;31mNameError\u001b[0m: name 'roll' is not defined"
     ]
    }
   ],
   "source": [
    "def rollingdice(x):\n",
    "    Side_1 = 0\n",
    "    Side_2 = 0\n",
    "    Side_3 = 0\n",
    "    Side_4 = 0\n",
    "    Side_5 = 0\n",
    "    Side_6 = 0\n",
    "    roll = 0\n",
    "while roll < x:\n",
    "    rollx = random.randrange(0,6)\n",
    "    if rollx == 0:\n",
    "        Side_1 = Side_1 + 1\n",
    "        Side_2 = Side_2 + 1\n",
    "        Side_3 = Side_3 + 1\n",
    "        Side_4 = Side_4 + 1\n",
    "        Side_5 = Side_5 + 1\n",
    "        Side_6 = Side_6 + 1\n",
    "    if rollx > 0:\n",
    "        Side_1 = Side_1 + 1\n",
    "        Side_2 = Side_2 + 1\n",
    "        Side_3 = Side_3 + 1\n",
    "        Side_4 = Side_4 + 1\n",
    "        Side_5 = Side_5 + 1\n",
    "        Side_6 = Side_6 + 1\n",
    "    rollx += 1\n",
    "return [Side_1, Side_2, Side_3, Side_4, Side_5, Side_6]\n",
    "rep = 200\n",
    "rollingdice_results = rollingdice(rep)\n",
    "rollingdice_results\n",
    "\n",
    "\n"
   ]
  },
  {
   "cell_type": "markdown",
   "metadata": {},
   "source": [
    "> **Exercise complete**:\n",
    "    \n",
    "> This is a good time to \"Save and Checkpoint\"."
   ]
  },
  {
   "cell_type": "markdown",
   "metadata": {},
   "source": [
    "The basic random function was used in the example above, but you can view [this site](http://bigdataexaminer.com/data-science/how-to-implement-these-5-powerful-probability-distributions-in-python/) to see an example of implementing other probability distributions."
   ]
  },
  {
   "cell_type": "markdown",
   "metadata": {},
   "source": [
    "# 5. Loading files\n",
    "\n",
    "A lot of the input data that will be available will be stored in either files or databases. This section will introduce limited examples to show the syntax and functionality, but will restrict use to CSV files in most cases. You can read from and write to a multitude of data storage structures, including relational databases and non-relational data storage structures such as Hadoop. When you start to approach the boundaries of the available memory and compute capacities of your infrastructure, it is likely time to switch to a data storage system that better supports your needs. However, from an analysis perspective, the most important aspect is being able to interrogate and analyze the data.\n",
    "\n",
    "## 5.1 Loading CSV files\n",
    "Python's [CSV](https://docs.python.org/2/library/csv.html?highlight=csv) module allows the user to load data from a CSV file. In the first example we load a sample CSV file that contains four columns and three rows."
   ]
  },
  {
   "cell_type": "code",
   "execution_count": 2,
   "metadata": {
    "collapsed": false
   },
   "outputs": [
    {
     "data": {
      "text/plain": [
       "[['A;B;C;D'], ['1;4;7;10'], ['2;5;8;11'], ['3;6;9;12']]"
      ]
     },
     "execution_count": 2,
     "metadata": {},
     "output_type": "execute_result"
    }
   ],
   "source": [
    "# loading CSV files\n",
    "import csv\n",
    "egFile = open('workbook.csv')\n",
    "egReader = csv.reader(egFile)\n",
    "egData = list(egReader)\n",
    "egData"
   ]
  },
  {
   "cell_type": "markdown",
   "metadata": {},
   "source": [
    "## 5.2 JSON strings\n",
    "JSON (JavaScript Object Notation) is a lightweight data-interchange format that is easy to read and write for humans, and easy to parse and generate for computers. You can read more about the Python encoder and decoder [here](https://docs.python.org/2/library/json.html)."
   ]
  },
  {
   "cell_type": "code",
   "execution_count": 3,
   "metadata": {
    "collapsed": false
   },
   "outputs": [
    {
     "data": {
      "text/plain": [
       "{u'Age': 30, u'Name': u'John', u'Surname': u'Smith'}"
      ]
     },
     "execution_count": 3,
     "metadata": {},
     "output_type": "execute_result"
    }
   ],
   "source": [
    "# loading JSON data\n",
    "import json\n",
    "jsonStr = '{\"Name\": \"John\", \"Surname\": \"Smith\", \"Age\": 30}'\n",
    "jsonStrToPy = json.loads(jsonStr)\n",
    "jsonStrToPy"
   ]
  },
  {
   "cell_type": "markdown",
   "metadata": {},
   "source": [
    "## 5.3 Reading and writing to SQLite databases\n",
    "[SQLite](https://docs.python.org/2/library/sqlite3.html?highlight=sqlite#module-sqlite3) is a lightweight, disk-based database that does not require a separate server process. Other databases would require different libraries and connection strings, but are very similar to the example demonstrated below. The structure of the example is based on the link earlier in this paragraph and provides good input with regards to the use and best practices of SQLite databases."
   ]
  },
  {
   "cell_type": "code",
   "execution_count": 4,
   "metadata": {
    "collapsed": true
   },
   "outputs": [],
   "source": [
    "# import the sqlite library and open the database\n",
    "import sqlite3"
   ]
  },
  {
   "cell_type": "markdown",
   "metadata": {},
   "source": [
    "#### Connect to your database, create a table and add some sample data."
   ]
  },
  {
   "cell_type": "code",
   "execution_count": 5,
   "metadata": {
    "collapsed": false
   },
   "outputs": [],
   "source": [
    "# connect to your database\n",
    "conn = sqlite3.connect('example.db')\n",
    "\n",
    "# set the connection cursor\n",
    "c = conn.cursor()\n",
    "\n",
    "# Create table\n",
    "c.execute('''CREATE TABLE IF NOT EXISTS students\n",
    "             (id INTEGER PRIMARY KEY, industry text, country text, city text)''')\n",
    "\n",
    "# Insert 3 rows\n",
    "c.execute(\"INSERT INTO students VALUES (NULL, 'Agriculture', 'Australia', 'Perth')\")\n",
    "c.execute(\"INSERT INTO students VALUES (NULL, 'Arts & Education', 'Greece', 'Thessaloniki')\")\n",
    "c.execute(\"INSERT INTO students VALUES (NULL, 'Public Sector', 'United States','San Francisco')\")\n",
    "\n",
    "# Save (commit) the changes\n",
    "conn.commit()\n",
    "\n",
    "# Make sure that any changes have been committed before closing the connection. \n",
    "# If the previous step was not completed, any changes that you have made will be lost.\n",
    "conn.close()"
   ]
  },
  {
   "cell_type": "markdown",
   "metadata": {},
   "source": [
    "> **Note**: \n",
    "\n",
    "> If you choose a filename, \"example.db\" in the example above, does not exist, it will be created for you.\n",
    "\n",
    "> We have not added any checks so executing the cell above multiple times will keep on adding duplicates of the same three rows."
   ]
  },
  {
   "cell_type": "markdown",
   "metadata": {},
   "source": [
    "#### Retrieve the data in your database."
   ]
  },
  {
   "cell_type": "code",
   "execution_count": 6,
   "metadata": {
    "collapsed": false
   },
   "outputs": [
    {
     "name": "stdout",
     "output_type": "stream",
     "text": [
      "(1, u'Agriculture', u'Australia', u'Perth')\n",
      "(2, u'Arts & Education', u'Greece', u'Thessaloniki')\n",
      "(3, u'Public Sector', u'United States', u'San Francisco')\n",
      "(4, u'Agriculture', u'Australia', u'Perth')\n",
      "(5, u'Arts & Education', u'Greece', u'Thessaloniki')\n",
      "(6, u'Public Sector', u'United States', u'San Francisco')\n",
      "(7, u'Agriculture', u'Australia', u'Perth')\n",
      "(8, u'Arts & Education', u'Greece', u'Thessaloniki')\n",
      "(9, u'Public Sector', u'United States', u'San Francisco')\n",
      "(10, u'Agriculture', u'Australia', u'Perth')\n",
      "(11, u'Arts & Education', u'Greece', u'Thessaloniki')\n",
      "(12, u'Public Sector', u'United States', u'San Francisco')\n",
      "(13, u'Agriculture', u'Australia', u'Perth')\n",
      "(14, u'Arts & Education', u'Greece', u'Thessaloniki')\n",
      "(15, u'Public Sector', u'United States', u'San Francisco')\n"
     ]
    }
   ],
   "source": [
    "# connect to your database and set the cursor\n",
    "import sqlite3\n",
    "conn = sqlite3.connect('example.db')\n",
    "c = conn.cursor()\n",
    "\n",
    "# Fetch the records\n",
    "c.execute('SELECT * FROM students')\n",
    "\n",
    "# Print the result set row by row\n",
    "for row in c.execute('SELECT * FROM students ORDER BY id'):\n",
    "        print row\n",
    "\n",
    "# Close the connection\n",
    "c.close()"
   ]
  },
  {
   "cell_type": "markdown",
   "metadata": {},
   "source": [
    "#### Delete a subset of records from your database."
   ]
  },
  {
   "cell_type": "code",
   "execution_count": 7,
   "metadata": {
    "collapsed": false
   },
   "outputs": [
    {
     "name": "stdout",
     "output_type": "stream",
     "text": [
      "(1, u'Agriculture', u'Australia', u'Perth')\n"
     ]
    }
   ],
   "source": [
    "# connect to your database and set the cursor\n",
    "import sqlite3\n",
    "conn = sqlite3.connect('example.db')\n",
    "c = conn.cursor()\n",
    "\n",
    "# Delete all records where the id is greater than 1\n",
    "c.execute('DELETE FROM students WHERE id > 1')\n",
    "\n",
    "# Fetch the records\n",
    "c.execute('SELECT * FROM students')\n",
    "\n",
    "\n",
    "# Print the result set row by row\n",
    "for row in c.execute('SELECT * FROM students ORDER BY id'):\n",
    "        print row\n",
    "\n",
    "# Close the connection\n",
    "c.close()"
   ]
  },
  {
   "cell_type": "markdown",
   "metadata": {},
   "source": [
    "# 6. Additional library examples\n",
    "\n",
    "This section contains examples of additional libraries that will be utilized in subsequent notebooks. The Anaconda Python distribution includes a number of libraries that you typically require for data analysis. You can also install your own libraries from a wide variety of sources. Some of these will be demonstrated when you set up for your weekly tasks and refresh your virtual analysis environment.\n",
    "\n",
    "> **Note**:\n",
    "\n",
    "> If you are not already familiar with Matplotlib and Pandas, it would be worthwhile to review the documentation and complete some of the tutorials available. The section below provides links and a brief overview of their use and functionality."
   ]
  },
  {
   "cell_type": "markdown",
   "metadata": {},
   "source": [
    "## 6.1 Matplotlib\n",
    "\n",
    "The examples below come from the [Matplotlib Screenshots](http://matplotlib.org/users/screenshots.html) page.\n",
    "\n",
    "> **Note**: \n",
    "\n",
    "> One of the options that you will need to remember to set when you use Matplotlib is \"%matplotlib inline\" which instructs the notebook to plot inline instead of opening a separate window for your graph.\n",
    "\n",
    "You can find additional information on Matplotlib here:\n",
    "- [Matplotlib Documentation](http://matplotlib.org/)\n",
    "\n",
    "- [Matplotlib Beginners](http://matplotlib.org/users/beginner.html)\n",
    "\n",
    "- [Matplotlib Gallery](http://matplotlib.org/gallery.html)"
   ]
  },
  {
   "cell_type": "markdown",
   "metadata": {
    "collapsed": true
   },
   "source": [
    "### 6.1.1 Simple Plot\n",
    "The graph below does not contain any real significance other than demonstrating how easy it is to plot graphs. "
   ]
  },
  {
   "cell_type": "code",
   "execution_count": 9,
   "metadata": {
    "collapsed": false
   },
   "outputs": [
    {
     "data": {
      "image/png": "[encoded data removed]",
      "text/plain": [
       "<matplotlib.figure.Figure at 0x7f093dffe1d0>"
      ]
     },
     "metadata": {},
     "output_type": "display_data"
    }
   ],
   "source": [
    "# Import matplotlib library and set notebook plotting options\n",
    "import matplotlib.pyplot as plt\n",
    "import numpy as np\n",
    "# Instruct the notebook to plot inline. \n",
    "%matplotlib inline     \n",
    "\n",
    "# Generate data\n",
    "t = np.arange(0.0, 2.0, 0.01)\n",
    "s = np.sin(2*np.pi*t)\n",
    "\n",
    "# Create plot\n",
    "plt.plot(t, s)\n",
    "\n",
    "# Set plot options\n",
    "plt.xlabel('Time (s)')\n",
    "plt.ylabel('Voltage (mV)')\n",
    "plt.title('About as simple as it gets, folks')\n",
    "plt.grid(True)\n",
    "\n",
    "# Saving as file can be achieved by uncommenting the line below\n",
    "# plt.savefig(\"test.png\")\n",
    "\n",
    "# Display the plot in the notebook.\n",
    "# The '%matplotlib inline' option set earlier ensure that the plot is displayed inline\n",
    "plt.show()"
   ]
  },
  {
   "cell_type": "markdown",
   "metadata": {},
   "source": [
    "### 6.1.2 Matplotlib - Demo with subplots\n",
    "Subplots is another useful feature where you can display multiple plots. This is typically used to visually compare data sets."
   ]
  },
  {
   "cell_type": "code",
   "execution_count": 11,
   "metadata": {
    "collapsed": false
   },
   "outputs": [
    {
     "data": {
      "image/png": "[encoded data removed]",
      "text/plain": [
       "<matplotlib.figure.Figure at 0x7f09605be910>"
      ]
     },
     "metadata": {},
     "output_type": "display_data"
    }
   ],
   "source": [
    "\"\"\"\n",
    "Simple demo with multiple subplots.\n",
    "\"\"\"\n",
    "import numpy as np\n",
    "import matplotlib.pyplot as plt\n",
    "\n",
    "\n",
    "x1 = np.linspace(0.0, 5.0)\n",
    "x2 = np.linspace(0.0, 2.0)\n",
    "\n",
    "y1 = np.cos(2 * np.pi * x1) * np.exp(-x1)\n",
    "y2 = np.cos(2 * np.pi * x2)\n",
    "\n",
    "plt.subplot(2, 1, 1)\n",
    "plt.plot(x1, y1, 'yo-')\n",
    "plt.title('A tale of 2 subplots')\n",
    "plt.ylabel('Damped oscillation')\n",
    "\n",
    "plt.subplot(2, 1, 2)\n",
    "plt.plot(x2, y2, 'r.-')\n",
    "plt.xlabel('Time (s)')\n",
    "plt.ylabel('Undamped')\n",
    "\n",
    "plt.show()"
   ]
  },
  {
   "cell_type": "markdown",
   "metadata": {},
   "source": [
    "### 6.1.3 Matplotlib - Histogram (with a few features)\n",
    "Here is another example to be utilized in future. The intention is to demonstrate syntax and provide ideas of what is possible."
   ]
  },
  {
   "cell_type": "code",
   "execution_count": 14,
   "metadata": {
    "collapsed": false
   },
   "outputs": [
    {
     "data": {
      "image/png": "[encoded data removed]",
      "text/plain": [
       "<matplotlib.figure.Figure at 0x7f096059ca50>"
      ]
     },
     "metadata": {},
     "output_type": "display_data"
    }
   ],
   "source": [
    "\"\"\"\n",
    "Demo of the histogram (hist) function with a few features.\n",
    "\n",
    "In addition to the basic histogram, this demo shows a few optional features:\n",
    "\n",
    "    * Setting the number of data bins\n",
    "    * The ``normed`` flag, which normalizes bin heights so that the integral of\n",
    "      the histogram is 1. The resulting histogram is a probability density.\n",
    "    * Setting the face color of the bars\n",
    "    * Setting the opacity (alpha value).\n",
    "\n",
    "\"\"\"\n",
    "import numpy as np\n",
    "import matplotlib.mlab as mlab\n",
    "import matplotlib.pyplot as plt\n",
    "\n",
    "\n",
    "# Example data\n",
    "mu = 100  # mean of distribution\n",
    "sigma = 15  # standard deviation of distribution\n",
    "x = mu + sigma * np.random.randn(10000)\n",
    "\n",
    "num_bins = 50\n",
    "# The histogram of the data\n",
    "n, bins, patches = plt.hist(x, num_bins, normed=1, facecolor='green', alpha=0.5)\n",
    "# Add a 'best fit' line\n",
    "y = mlab.normpdf(bins, mu, sigma)\n",
    "plt.plot(bins, y, 'r--')\n",
    "plt.xlabel('Smarts')\n",
    "plt.ylabel('Probability')\n",
    "plt.title(r'Histogram of IQ: $\\mu=100$, $\\sigma=15$')\n",
    "\n",
    "# Tweak spacing to prevent clipping of ylabel\n",
    "plt.subplots_adjust(left=0.15)\n",
    "plt.show()"
   ]
  },
  {
   "cell_type": "markdown",
   "metadata": {},
   "source": [
    "### 6.2 Pandas"
   ]
  },
  {
   "cell_type": "markdown",
   "metadata": {},
   "source": [
    "Pandas is an open source, BSD-licensed library that provides high-performance, easy-to-use data structures and data analysis tools for the Python programming language. For more information on the Pandas library, explore the list of resources provided below.\n",
    "\n",
    "- [Pandas web page](http://pandas.pydata.org/)\n",
    "- Pandas [Documentation](http://pandas.pydata.org/pandas-docs/stable/) and [Tutorial](http://pandas.pydata.org/pandas-docs/stable/tutorials.html)\n",
    "- [External 10 Minute overview video on Vimeo](http://vimeo.com/59324550)"
   ]
  },
  {
   "cell_type": "markdown",
   "metadata": {},
   "source": [
    "The [Pandas cookbook](https://github.com/jvns/pandas-cookbook) is an excellent resource. Work through the set of examples in the cookbook directory to familiarize yourself with Pandas."
   ]
  },
  {
   "cell_type": "markdown",
   "metadata": {},
   "source": [
    "One of the many useful features of Pandas is the ability to create arrays with sample data. In the example below we create an array with random data in a single statement. You will learn how to utilize the relevant features at a later stage. Should you be interested in learning more about the specific random function, you can read more [here](http://docs.scipy.org/doc/numpy/reference/generated/numpy.random.randn.html)"
   ]
  },
  {
   "cell_type": "code",
   "execution_count": 15,
   "metadata": {
    "collapsed": false
   },
   "outputs": [
    {
     "data": {
      "text/html": [
       "<div>\n",
       "<table border=\"1\" class=\"dataframe\">\n",
       "  <thead>\n",
       "    <tr style=\"text-align: right;\">\n",
       "      <th></th>\n",
       "      <th>W</th>\n",
       "      <th>X</th>\n",
       "      <th>Y</th>\n",
       "      <th>Z</th>\n",
       "    </tr>\n",
       "  </thead>\n",
       "  <tbody>\n",
       "    <tr>\n",
       "      <th>0</th>\n",
       "      <td>-0.361060</td>\n",
       "      <td>1.657550</td>\n",
       "      <td>-1.023577</td>\n",
       "      <td>0.197544</td>\n",
       "    </tr>\n",
       "    <tr>\n",
       "      <th>10</th>\n",
       "      <td>-1.238771</td>\n",
       "      <td>0.719623</td>\n",
       "      <td>-1.390443</td>\n",
       "      <td>0.917763</td>\n",
       "    </tr>\n",
       "    <tr>\n",
       "      <th>20</th>\n",
       "      <td>1.599146</td>\n",
       "      <td>0.481521</td>\n",
       "      <td>-1.336694</td>\n",
       "      <td>0.831858</td>\n",
       "    </tr>\n",
       "    <tr>\n",
       "      <th>30</th>\n",
       "      <td>0.237578</td>\n",
       "      <td>-1.377085</td>\n",
       "      <td>2.002645</td>\n",
       "      <td>0.197647</td>\n",
       "    </tr>\n",
       "    <tr>\n",
       "      <th>40</th>\n",
       "      <td>-1.707798</td>\n",
       "      <td>0.790931</td>\n",
       "      <td>-0.487962</td>\n",
       "      <td>-0.398085</td>\n",
       "    </tr>\n",
       "    <tr>\n",
       "      <th>50</th>\n",
       "      <td>0.698892</td>\n",
       "      <td>0.810010</td>\n",
       "      <td>-1.003503</td>\n",
       "      <td>-1.640196</td>\n",
       "    </tr>\n",
       "    <tr>\n",
       "      <th>60</th>\n",
       "      <td>-0.628626</td>\n",
       "      <td>-0.520217</td>\n",
       "      <td>-1.430999</td>\n",
       "      <td>-0.211408</td>\n",
       "    </tr>\n",
       "    <tr>\n",
       "      <th>70</th>\n",
       "      <td>0.220516</td>\n",
       "      <td>1.518532</td>\n",
       "      <td>0.043750</td>\n",
       "      <td>-1.245609</td>\n",
       "    </tr>\n",
       "    <tr>\n",
       "      <th>80</th>\n",
       "      <td>0.434495</td>\n",
       "      <td>0.496969</td>\n",
       "      <td>-0.151424</td>\n",
       "      <td>0.364674</td>\n",
       "    </tr>\n",
       "    <tr>\n",
       "      <th>90</th>\n",
       "      <td>1.379226</td>\n",
       "      <td>0.044083</td>\n",
       "      <td>0.692413</td>\n",
       "      <td>-0.031456</td>\n",
       "    </tr>\n",
       "  </tbody>\n",
       "</table>\n",
       "</div>"
      ],
      "text/plain": [
       "           W         X         Y         Z\n",
       "0  -0.361060  1.657550 -1.023577  0.197544\n",
       "10 -1.238771  0.719623 -1.390443  0.917763\n",
       "20  1.599146  0.481521 -1.336694  0.831858\n",
       "30  0.237578 -1.377085  2.002645  0.197647\n",
       "40 -1.707798  0.790931 -0.487962 -0.398085\n",
       "50  0.698892  0.810010 -1.003503 -1.640196\n",
       "60 -0.628626 -0.520217 -1.430999 -0.211408\n",
       "70  0.220516  1.518532  0.043750 -1.245609\n",
       "80  0.434495  0.496969 -0.151424  0.364674\n",
       "90  1.379226  0.044083  0.692413 -0.031456"
      ]
     },
     "execution_count": 15,
     "metadata": {},
     "output_type": "execute_result"
    }
   ],
   "source": [
    "# example of generating an array of values\n",
    "import pandas as pd\n",
    "import numpy as np\n",
    "df = pd.DataFrame(np.random.randn(10,4), index=np.arange(0, 100, 10), columns=list('WXYZ'))\n",
    "df"
   ]
  },
  {
   "cell_type": "markdown",
   "metadata": {
    "collapsed": true
   },
   "source": [
    "## 7. Submit your notebook\n",
    "\n",
    "Please make sure that you:\n",
    "- Perform a final \"Save and Checkpoint\";\n",
    "- Download a copy of the notebook in \".ipynb\" format to your local machine using \"File\", \"Download as\" and \"IPython Notebook (.ipynb)\";\n",
    "- Submit a copy of this file to the online campus."
   ]
  },
  {
   "cell_type": "code",
   "execution_count": null,
   "metadata": {
    "collapsed": true
   },
   "outputs": [],
   "source": []
  },
  {
   "cell_type": "code",
   "execution_count": null,
   "metadata": {
    "collapsed": true
   },
   "outputs": [],
   "source": []
  }
 ],
 "metadata": {
  "anaconda-cloud": {},
  "kernelspec": {
   "display_name": "Python 2",
   "language": "python",
   "name": "python2"
  },
  "language_info": {
   "codemirror_mode": {
    "name": "ipython",
    "version": 2
   },
   "file_extension": ".py",
   "mimetype": "text/x-python",
   "name": "python",
   "nbconvert_exporter": "python",
   "pygments_lexer": "ipython2",
   "version": "2.7.12"
  }
 },
 "nbformat": 4,
 "nbformat_minor": 0
}
